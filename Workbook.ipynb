{
 "cells": [
  {
   "cell_type": "markdown",
   "id": "d7158b76-50bb-4e09-97ee-fca91acf2060",
   "metadata": {},
   "source": [
    "# Good ways to write our code\n",
    "* pick good variable names\n",
    "  * e.g., __`cost_per_ounce`__ is much better than __`cpo`__"
   ]
  },
  {
   "cell_type": "markdown",
   "id": "bac88ce9-dc52-43aa-9451-949b4e27ab59",
   "metadata": {
    "jp-MarkdownHeadingCollapsed": true,
    "tags": []
   },
   "source": [
    "# Things to think about as we write our code\n",
    "* we read code 10x more than we write it\n",
    "* Hal Abelson: \"Code is written to be read by others, and only incidentally executed by machines.\"\n",
    "  * tell the best story we can\n",
    "* Eagleson's Law: \"Any code you wrote more than 6 months ago might as well have been written by somebody else\""
   ]
  },
  {
   "cell_type": "markdown",
   "id": "c157b352-4c7e-4f3b-b497-fce97505543e",
   "metadata": {},
   "source": [
    "# Important Things About Python\n",
    "* Python's raison d'être is manipulating data (text) and files\n",
    "  * we should see this in the choices he made about the language\n",
    "* everything is an object\n",
    "  1. everything lives in memory and we can inspect those things\n",
    "  1. every object consists of multiple fields, possibly with functions attached\n",
    "* be careful when reading the documentation (\"docs\")\n",
    "  * the docs are aimed at experts\n",
    "* built-in functions (e.g., __`str()`__, __`print()`__, __`sorted()`__...)\n",
    "  * they are not restricted in terms of the data types we send them\n",
    "    * with some exceptions, but they can accept lots of different types\n",
    "    * i.e., they are \"general\"\n",
    "  * DO NOT change the objects that are passed into them\n",
    "    * if you want to change an object, you must call/invoke a method on it\n",
    "      * not all methods change the objects they are applied to or called/invoke on\n",
    "* _scalars_ \"a single value\" (int, float, bool)\n",
    "  * vs. _containers_ \"0+ values\": str, list, (tuple), dict, (set)\n",
    "* mutable vs. immutable objects\n",
    "  * immutable: str, (tuple)\n",
    "  * mutable: list, dict, (set)"
   ]
  },
  {
   "cell_type": "code",
   "execution_count": 97,
   "id": "22165d77-3e78-4c90-a5f9-67f9610d8fa7",
   "metadata": {},
   "outputs": [
    {
     "data": {
      "text/plain": [
       "'BRUCE LEE'"
      ]
     },
     "execution_count": 97,
     "metadata": {},
     "output_type": "execute_result"
    }
   ],
   "source": [
    "'Bruce Lee'.upper()"
   ]
  },
  {
   "cell_type": "markdown",
   "id": "bc1890b5-aad2-41c2-a0ca-785a24bad3d9",
   "metadata": {
    "tags": []
   },
   "source": [
    "# How to be \"Pythonic\"\n",
    "* if an object is difficult to work with, consider changing its type\n",
    "* __`container[-1]`__ is the last item in the container\n",
    "  * __`container[-n]`__ is the nth from the last item in the container\n",
    "* compose function where appropriate, e.g., __`int(input(...))`__\n",
    "* __`[:n]`__ means the first n items in a container\n",
    "* __`[-n:]`__ means the last n items in a container\n",
    "* __`[::-1]`__ means a reversed version of the container\n",
    "* don't use indexing in str/list/container, if you don't need it"
   ]
  },
  {
   "cell_type": "markdown",
   "id": "8be534df-830c-4d2d-8237-f01e47dde34a",
   "metadata": {},
   "source": [
    "# Other stuff\n",
    "* Jackie Stewart \"mechanical sympathy\"\n",
    "  * you can't truly understand something or be an expert at it if you don't know how it works under the hood\n",
    "* the 3 banes of existence of programmers are:\n",
    "  1. incorrectly initialized variables\n",
    "  2. off by one errors"
   ]
  },
  {
   "cell_type": "code",
   "execution_count": 1,
   "id": "e88fca68-4599-4daa-852b-8426a1641603",
   "metadata": {},
   "outputs": [],
   "source": [
    "new_variable = 'Detroit'"
   ]
  },
  {
   "cell_type": "code",
   "execution_count": 2,
   "id": "46573bfd-7f88-4232-ac0e-01ca4e6d78cc",
   "metadata": {},
   "outputs": [
    {
     "data": {
      "text/plain": [
       "'Detroit'"
      ]
     },
     "execution_count": 2,
     "metadata": {},
     "output_type": "execute_result"
    }
   ],
   "source": [
    "new_variable"
   ]
  },
  {
   "cell_type": "code",
   "execution_count": 3,
   "id": "e873d9ea-fc8a-4ba5-ae4f-811c9dfc0665",
   "metadata": {},
   "outputs": [],
   "source": [
    "print = 'this is a variable'"
   ]
  },
  {
   "cell_type": "code",
   "execution_count": 4,
   "id": "971d3e10-b6d0-45ac-9918-df74b9622519",
   "metadata": {},
   "outputs": [
    {
     "data": {
      "text/plain": [
       "'this is a variable'"
      ]
     },
     "execution_count": 4,
     "metadata": {},
     "output_type": "execute_result"
    }
   ],
   "source": [
    "print"
   ]
  },
  {
   "cell_type": "code",
   "execution_count": 5,
   "id": "f2ce447d-3c93-425f-8892-5a998993c96d",
   "metadata": {},
   "outputs": [
    {
     "ename": "TypeError",
     "evalue": "'str' object is not callable",
     "output_type": "error",
     "traceback": [
      "\u001b[0;31m---------------------------------------------------------------------------\u001b[0m",
      "\u001b[0;31mTypeError\u001b[0m                                 Traceback (most recent call last)",
      "Input \u001b[0;32mIn [5]\u001b[0m, in \u001b[0;36m<cell line: 1>\u001b[0;34m()\u001b[0m\n\u001b[0;32m----> 1\u001b[0m \u001b[38;5;28;43mprint\u001b[39;49m\u001b[43m(\u001b[49m\u001b[38;5;124;43m'\u001b[39;49m\u001b[38;5;124;43mhi\u001b[39;49m\u001b[38;5;124;43m'\u001b[39;49m\u001b[43m)\u001b[49m\n",
      "\u001b[0;31mTypeError\u001b[0m: 'str' object is not callable"
     ]
    }
   ],
   "source": [
    "print('hi')"
   ]
  },
  {
   "cell_type": "code",
   "execution_count": 7,
   "id": "d9cb8a78-3085-4765-bbe2-b26c28b84a30",
   "metadata": {},
   "outputs": [],
   "source": [
    "del print"
   ]
  },
  {
   "cell_type": "code",
   "execution_count": 8,
   "id": "a46bcf30-0cd3-4721-bb32-c579115805ec",
   "metadata": {},
   "outputs": [
    {
     "name": "stdout",
     "output_type": "stream",
     "text": [
      "hi\n"
     ]
    }
   ],
   "source": [
    "print('hi')"
   ]
  },
  {
   "cell_type": "code",
   "execution_count": 9,
   "id": "ce0973ca-747e-4577-a920-2d1e73129876",
   "metadata": {},
   "outputs": [
    {
     "data": {
      "text/plain": [
       "140206669636272"
      ]
     },
     "execution_count": 9,
     "metadata": {},
     "output_type": "execute_result"
    }
   ],
   "source": [
    "id(new_variable)"
   ]
  },
  {
   "cell_type": "code",
   "execution_count": 11,
   "id": "f444cac0-abaa-4794-89d8-04808f4ca1ed",
   "metadata": {},
   "outputs": [],
   "source": [
    "another_variable = 'something else'"
   ]
  },
  {
   "cell_type": "code",
   "execution_count": 12,
   "id": "c0f57b98-9f9a-4730-bb2e-34f0916d16c6",
   "metadata": {},
   "outputs": [
    {
     "data": {
      "text/plain": [
       "140207199982320"
      ]
     },
     "execution_count": 12,
     "metadata": {},
     "output_type": "execute_result"
    }
   ],
   "source": [
    "id(another_variable)"
   ]
  },
  {
   "cell_type": "code",
   "execution_count": 13,
   "id": "4e9c6daf-2913-4c4c-82eb-daa160310dd7",
   "metadata": {},
   "outputs": [
    {
     "data": {
      "text/plain": [
       "140207462654896"
      ]
     },
     "execution_count": 13,
     "metadata": {},
     "output_type": "execute_result"
    }
   ],
   "source": [
    "id(print)"
   ]
  },
  {
   "cell_type": "code",
   "execution_count": 14,
   "id": "e4721164-738a-4e06-9b21-88491f403867",
   "metadata": {},
   "outputs": [
    {
     "data": {
      "text/plain": [
       "140207462649664"
      ]
     },
     "execution_count": 14,
     "metadata": {},
     "output_type": "execute_result"
    }
   ],
   "source": [
    "id(id)"
   ]
  },
  {
   "cell_type": "code",
   "execution_count": 15,
   "id": "cfd0cc4f-660a-4f1c-adc8-107ba37c12f6",
   "metadata": {},
   "outputs": [],
   "source": [
    "something = 5"
   ]
  },
  {
   "cell_type": "code",
   "execution_count": 16,
   "id": "fce7847b-e1ad-4456-97ae-4852fc5c327d",
   "metadata": {},
   "outputs": [
    {
     "data": {
      "text/plain": [
       "140207731042736"
      ]
     },
     "execution_count": 16,
     "metadata": {},
     "output_type": "execute_result"
    }
   ],
   "source": [
    "id(something)"
   ]
  },
  {
   "cell_type": "code",
   "execution_count": 17,
   "id": "f9ee2afd-645f-49bf-94d4-b9224e8fb8f9",
   "metadata": {},
   "outputs": [],
   "source": [
    "import math # bring into memory something that is on the hard drive, but not loaded by default"
   ]
  },
  {
   "cell_type": "code",
   "execution_count": 18,
   "id": "391d267b-806b-417b-a451-e45a5f02bce9",
   "metadata": {},
   "outputs": [
    {
     "data": {
      "text/plain": [
       "1.0"
      ]
     },
     "execution_count": 18,
     "metadata": {},
     "output_type": "execute_result"
    }
   ],
   "source": [
    "math.sin(math.pi / 2.0)"
   ]
  },
  {
   "cell_type": "code",
   "execution_count": 19,
   "id": "556892c0-89cd-435c-a502-f3a38711f80b",
   "metadata": {},
   "outputs": [
    {
     "data": {
      "text/plain": [
       "140207731515040"
      ]
     },
     "execution_count": 19,
     "metadata": {},
     "output_type": "execute_result"
    }
   ],
   "source": [
    "id(math)"
   ]
  },
  {
   "cell_type": "code",
   "execution_count": 21,
   "id": "44756d2a-c872-417c-9364-4c01864a11ea",
   "metadata": {},
   "outputs": [
    {
     "name": "stdout",
     "output_type": "stream",
     "text": [
      "Help on built-in function print in module builtins:\n",
      "\n",
      "print(...)\n",
      "    print(value, ..., sep=' ', end='\\n', file=sys.stdout, flush=False)\n",
      "    \n",
      "    Prints the values to a stream, or to sys.stdout by default.\n",
      "    Optional keyword arguments:\n",
      "    file:  a file-like object (stream); defaults to the current sys.stdout.\n",
      "    sep:   string inserted between values, default a space.\n",
      "    end:   string appended after the last value, default a newline.\n",
      "    flush: whether to forcibly flush the stream.\n",
      "\n"
     ]
    }
   ],
   "source": [
    "help(print)"
   ]
  },
  {
   "cell_type": "code",
   "execution_count": 22,
   "id": "b4c394ec-2bd2-40c1-b24f-74b47454ee20",
   "metadata": {},
   "outputs": [
    {
     "data": {
      "text/plain": [
       "['__doc__',\n",
       " '__file__',\n",
       " '__loader__',\n",
       " '__name__',\n",
       " '__package__',\n",
       " '__spec__',\n",
       " 'acos',\n",
       " 'acosh',\n",
       " 'asin',\n",
       " 'asinh',\n",
       " 'atan',\n",
       " 'atan2',\n",
       " 'atanh',\n",
       " 'ceil',\n",
       " 'comb',\n",
       " 'copysign',\n",
       " 'cos',\n",
       " 'cosh',\n",
       " 'degrees',\n",
       " 'dist',\n",
       " 'e',\n",
       " 'erf',\n",
       " 'erfc',\n",
       " 'exp',\n",
       " 'expm1',\n",
       " 'fabs',\n",
       " 'factorial',\n",
       " 'floor',\n",
       " 'fmod',\n",
       " 'frexp',\n",
       " 'fsum',\n",
       " 'gamma',\n",
       " 'gcd',\n",
       " 'hypot',\n",
       " 'inf',\n",
       " 'isclose',\n",
       " 'isfinite',\n",
       " 'isinf',\n",
       " 'isnan',\n",
       " 'isqrt',\n",
       " 'lcm',\n",
       " 'ldexp',\n",
       " 'lgamma',\n",
       " 'log',\n",
       " 'log10',\n",
       " 'log1p',\n",
       " 'log2',\n",
       " 'modf',\n",
       " 'nan',\n",
       " 'nextafter',\n",
       " 'perm',\n",
       " 'pi',\n",
       " 'pow',\n",
       " 'prod',\n",
       " 'radians',\n",
       " 'remainder',\n",
       " 'sin',\n",
       " 'sinh',\n",
       " 'sqrt',\n",
       " 'tan',\n",
       " 'tanh',\n",
       " 'tau',\n",
       " 'trunc',\n",
       " 'ulp']"
      ]
     },
     "execution_count": 22,
     "metadata": {},
     "output_type": "execute_result"
    }
   ],
   "source": [
    "dir(math) # tell me what's inside the math module"
   ]
  },
  {
   "cell_type": "code",
   "execution_count": 23,
   "id": "99299b9b-fce5-4b2b-a42c-401bbd83ac64",
   "metadata": {},
   "outputs": [
    {
     "name": "stdout",
     "output_type": "stream",
     "text": [
      "Help on module math:\n",
      "\n",
      "NAME\n",
      "    math\n",
      "\n",
      "MODULE REFERENCE\n",
      "    https://docs.python.org/3.9/library/math\n",
      "    \n",
      "    The following documentation is automatically generated from the Python\n",
      "    source files.  It may be incomplete, incorrect or include features that\n",
      "    are considered implementation detail and may vary between Python\n",
      "    implementations.  When in doubt, consult the module reference at the\n",
      "    location listed above.\n",
      "\n",
      "DESCRIPTION\n",
      "    This module provides access to the mathematical functions\n",
      "    defined by the C standard.\n",
      "\n",
      "FUNCTIONS\n",
      "    acos(x, /)\n",
      "        Return the arc cosine (measured in radians) of x.\n",
      "        \n",
      "        The result is between 0 and pi.\n",
      "    \n",
      "    acosh(x, /)\n",
      "        Return the inverse hyperbolic cosine of x.\n",
      "    \n",
      "    asin(x, /)\n",
      "        Return the arc sine (measured in radians) of x.\n",
      "        \n",
      "        The result is between -pi/2 and pi/2.\n",
      "    \n",
      "    asinh(x, /)\n",
      "        Return the inverse hyperbolic sine of x.\n",
      "    \n",
      "    atan(x, /)\n",
      "        Return the arc tangent (measured in radians) of x.\n",
      "        \n",
      "        The result is between -pi/2 and pi/2.\n",
      "    \n",
      "    atan2(y, x, /)\n",
      "        Return the arc tangent (measured in radians) of y/x.\n",
      "        \n",
      "        Unlike atan(y/x), the signs of both x and y are considered.\n",
      "    \n",
      "    atanh(x, /)\n",
      "        Return the inverse hyperbolic tangent of x.\n",
      "    \n",
      "    ceil(x, /)\n",
      "        Return the ceiling of x as an Integral.\n",
      "        \n",
      "        This is the smallest integer >= x.\n",
      "    \n",
      "    comb(n, k, /)\n",
      "        Number of ways to choose k items from n items without repetition and without order.\n",
      "        \n",
      "        Evaluates to n! / (k! * (n - k)!) when k <= n and evaluates\n",
      "        to zero when k > n.\n",
      "        \n",
      "        Also called the binomial coefficient because it is equivalent\n",
      "        to the coefficient of k-th term in polynomial expansion of the\n",
      "        expression (1 + x)**n.\n",
      "        \n",
      "        Raises TypeError if either of the arguments are not integers.\n",
      "        Raises ValueError if either of the arguments are negative.\n",
      "    \n",
      "    copysign(x, y, /)\n",
      "        Return a float with the magnitude (absolute value) of x but the sign of y.\n",
      "        \n",
      "        On platforms that support signed zeros, copysign(1.0, -0.0)\n",
      "        returns -1.0.\n",
      "    \n",
      "    cos(x, /)\n",
      "        Return the cosine of x (measured in radians).\n",
      "    \n",
      "    cosh(x, /)\n",
      "        Return the hyperbolic cosine of x.\n",
      "    \n",
      "    degrees(x, /)\n",
      "        Convert angle x from radians to degrees.\n",
      "    \n",
      "    dist(p, q, /)\n",
      "        Return the Euclidean distance between two points p and q.\n",
      "        \n",
      "        The points should be specified as sequences (or iterables) of\n",
      "        coordinates.  Both inputs must have the same dimension.\n",
      "        \n",
      "        Roughly equivalent to:\n",
      "            sqrt(sum((px - qx) ** 2.0 for px, qx in zip(p, q)))\n",
      "    \n",
      "    erf(x, /)\n",
      "        Error function at x.\n",
      "    \n",
      "    erfc(x, /)\n",
      "        Complementary error function at x.\n",
      "    \n",
      "    exp(x, /)\n",
      "        Return e raised to the power of x.\n",
      "    \n",
      "    expm1(x, /)\n",
      "        Return exp(x)-1.\n",
      "        \n",
      "        This function avoids the loss of precision involved in the direct evaluation of exp(x)-1 for small x.\n",
      "    \n",
      "    fabs(x, /)\n",
      "        Return the absolute value of the float x.\n",
      "    \n",
      "    factorial(x, /)\n",
      "        Find x!.\n",
      "        \n",
      "        Raise a ValueError if x is negative or non-integral.\n",
      "    \n",
      "    floor(x, /)\n",
      "        Return the floor of x as an Integral.\n",
      "        \n",
      "        This is the largest integer <= x.\n",
      "    \n",
      "    fmod(x, y, /)\n",
      "        Return fmod(x, y), according to platform C.\n",
      "        \n",
      "        x % y may differ.\n",
      "    \n",
      "    frexp(x, /)\n",
      "        Return the mantissa and exponent of x, as pair (m, e).\n",
      "        \n",
      "        m is a float and e is an int, such that x = m * 2.**e.\n",
      "        If x is 0, m and e are both 0.  Else 0.5 <= abs(m) < 1.0.\n",
      "    \n",
      "    fsum(seq, /)\n",
      "        Return an accurate floating point sum of values in the iterable seq.\n",
      "        \n",
      "        Assumes IEEE-754 floating point arithmetic.\n",
      "    \n",
      "    gamma(x, /)\n",
      "        Gamma function at x.\n",
      "    \n",
      "    gcd(*integers)\n",
      "        Greatest Common Divisor.\n",
      "    \n",
      "    hypot(...)\n",
      "        hypot(*coordinates) -> value\n",
      "        \n",
      "        Multidimensional Euclidean distance from the origin to a point.\n",
      "        \n",
      "        Roughly equivalent to:\n",
      "            sqrt(sum(x**2 for x in coordinates))\n",
      "        \n",
      "        For a two dimensional point (x, y), gives the hypotenuse\n",
      "        using the Pythagorean theorem:  sqrt(x*x + y*y).\n",
      "        \n",
      "        For example, the hypotenuse of a 3/4/5 right triangle is:\n",
      "        \n",
      "            >>> hypot(3.0, 4.0)\n",
      "            5.0\n",
      "    \n",
      "    isclose(a, b, *, rel_tol=1e-09, abs_tol=0.0)\n",
      "        Determine whether two floating point numbers are close in value.\n",
      "        \n",
      "          rel_tol\n",
      "            maximum difference for being considered \"close\", relative to the\n",
      "            magnitude of the input values\n",
      "          abs_tol\n",
      "            maximum difference for being considered \"close\", regardless of the\n",
      "            magnitude of the input values\n",
      "        \n",
      "        Return True if a is close in value to b, and False otherwise.\n",
      "        \n",
      "        For the values to be considered close, the difference between them\n",
      "        must be smaller than at least one of the tolerances.\n",
      "        \n",
      "        -inf, inf and NaN behave similarly to the IEEE 754 Standard.  That\n",
      "        is, NaN is not close to anything, even itself.  inf and -inf are\n",
      "        only close to themselves.\n",
      "    \n",
      "    isfinite(x, /)\n",
      "        Return True if x is neither an infinity nor a NaN, and False otherwise.\n",
      "    \n",
      "    isinf(x, /)\n",
      "        Return True if x is a positive or negative infinity, and False otherwise.\n",
      "    \n",
      "    isnan(x, /)\n",
      "        Return True if x is a NaN (not a number), and False otherwise.\n",
      "    \n",
      "    isqrt(n, /)\n",
      "        Return the integer part of the square root of the input.\n",
      "    \n",
      "    lcm(*integers)\n",
      "        Least Common Multiple.\n",
      "    \n",
      "    ldexp(x, i, /)\n",
      "        Return x * (2**i).\n",
      "        \n",
      "        This is essentially the inverse of frexp().\n",
      "    \n",
      "    lgamma(x, /)\n",
      "        Natural logarithm of absolute value of Gamma function at x.\n",
      "    \n",
      "    log(...)\n",
      "        log(x, [base=math.e])\n",
      "        Return the logarithm of x to the given base.\n",
      "        \n",
      "        If the base not specified, returns the natural logarithm (base e) of x.\n",
      "    \n",
      "    log10(x, /)\n",
      "        Return the base 10 logarithm of x.\n",
      "    \n",
      "    log1p(x, /)\n",
      "        Return the natural logarithm of 1+x (base e).\n",
      "        \n",
      "        The result is computed in a way which is accurate for x near zero.\n",
      "    \n",
      "    log2(x, /)\n",
      "        Return the base 2 logarithm of x.\n",
      "    \n",
      "    modf(x, /)\n",
      "        Return the fractional and integer parts of x.\n",
      "        \n",
      "        Both results carry the sign of x and are floats.\n",
      "    \n",
      "    nextafter(x, y, /)\n",
      "        Return the next floating-point value after x towards y.\n",
      "    \n",
      "    perm(n, k=None, /)\n",
      "        Number of ways to choose k items from n items without repetition and with order.\n",
      "        \n",
      "        Evaluates to n! / (n - k)! when k <= n and evaluates\n",
      "        to zero when k > n.\n",
      "        \n",
      "        If k is not specified or is None, then k defaults to n\n",
      "        and the function returns n!.\n",
      "        \n",
      "        Raises TypeError if either of the arguments are not integers.\n",
      "        Raises ValueError if either of the arguments are negative.\n",
      "    \n",
      "    pow(x, y, /)\n",
      "        Return x**y (x to the power of y).\n",
      "    \n",
      "    prod(iterable, /, *, start=1)\n",
      "        Calculate the product of all the elements in the input iterable.\n",
      "        \n",
      "        The default start value for the product is 1.\n",
      "        \n",
      "        When the iterable is empty, return the start value.  This function is\n",
      "        intended specifically for use with numeric values and may reject\n",
      "        non-numeric types.\n",
      "    \n",
      "    radians(x, /)\n",
      "        Convert angle x from degrees to radians.\n",
      "    \n",
      "    remainder(x, y, /)\n",
      "        Difference between x and the closest integer multiple of y.\n",
      "        \n",
      "        Return x - n*y where n*y is the closest integer multiple of y.\n",
      "        In the case where x is exactly halfway between two multiples of\n",
      "        y, the nearest even value of n is used. The result is always exact.\n",
      "    \n",
      "    sin(x, /)\n",
      "        Return the sine of x (measured in radians).\n",
      "    \n",
      "    sinh(x, /)\n",
      "        Return the hyperbolic sine of x.\n",
      "    \n",
      "    sqrt(x, /)\n",
      "        Return the square root of x.\n",
      "    \n",
      "    tan(x, /)\n",
      "        Return the tangent of x (measured in radians).\n",
      "    \n",
      "    tanh(x, /)\n",
      "        Return the hyperbolic tangent of x.\n",
      "    \n",
      "    trunc(x, /)\n",
      "        Truncates the Real x to the nearest Integral toward 0.\n",
      "        \n",
      "        Uses the __trunc__ magic method.\n",
      "    \n",
      "    ulp(x, /)\n",
      "        Return the value of the least significant bit of the float x.\n",
      "\n",
      "DATA\n",
      "    e = 2.718281828459045\n",
      "    inf = inf\n",
      "    nan = nan\n",
      "    pi = 3.141592653589793\n",
      "    tau = 6.283185307179586\n",
      "\n",
      "FILE\n",
      "    /Users/dave-wadestein/opt/anaconda3/lib/python3.9/lib-dynload/math.cpython-39-darwin.so\n",
      "\n",
      "\n"
     ]
    }
   ],
   "source": [
    "help(math)"
   ]
  },
  {
   "cell_type": "code",
   "execution_count": 24,
   "id": "ac53459f-3033-408a-84a1-03816237e6a6",
   "metadata": {},
   "outputs": [],
   "source": [
    "import math\n",
    "\n",
    "# Finding the square root of a number\n",
    "result = math.sqrt(25)  # result will be 5.0\n",
    "\n",
    "# Finding the sine of an angle in radians\n",
    "angle = math.pi / 6  # 30 degrees in radians\n",
    "sine_value = math.sin(angle)  # sine_value will be 0.5\n",
    "\n",
    "# Finding the logarithm base 10\n",
    "log_value = math.log10(100)  # log_value will be 2.0\n",
    "\n",
    "# Finding the exponential (e^x) of a number\n",
    "exp_value = math.exp(2)  # exp_value will be approximately 7.389\n"
   ]
  },
  {
   "cell_type": "code",
   "execution_count": 25,
   "id": "2233e7a0-3efd-4440-a1b2-72a595260e15",
   "metadata": {},
   "outputs": [
    {
     "data": {
      "text/plain": [
       "5.0"
      ]
     },
     "execution_count": 25,
     "metadata": {},
     "output_type": "execute_result"
    }
   ],
   "source": [
    "result"
   ]
  },
  {
   "cell_type": "code",
   "execution_count": 26,
   "id": "721538d4-d9c4-433f-8c1a-bf687f565efc",
   "metadata": {},
   "outputs": [
    {
     "data": {
      "text/plain": [
       "['False',\n",
       " 'None',\n",
       " 'True',\n",
       " '__peg_parser__',\n",
       " 'and',\n",
       " 'as',\n",
       " 'assert',\n",
       " 'async',\n",
       " 'await',\n",
       " 'break',\n",
       " 'class',\n",
       " 'continue',\n",
       " 'def',\n",
       " 'del',\n",
       " 'elif',\n",
       " 'else',\n",
       " 'except',\n",
       " 'finally',\n",
       " 'for',\n",
       " 'from',\n",
       " 'global',\n",
       " 'if',\n",
       " 'import',\n",
       " 'in',\n",
       " 'is',\n",
       " 'lambda',\n",
       " 'nonlocal',\n",
       " 'not',\n",
       " 'or',\n",
       " 'pass',\n",
       " 'raise',\n",
       " 'return',\n",
       " 'try',\n",
       " 'while',\n",
       " 'with',\n",
       " 'yield']"
      ]
     },
     "execution_count": 26,
     "metadata": {},
     "output_type": "execute_result"
    }
   ],
   "source": [
    "import keyword\n",
    "keyword.kwlist"
   ]
  },
  {
   "cell_type": "code",
   "execution_count": 27,
   "id": "83a8af92-ef6d-48b2-8232-749d338cdc2d",
   "metadata": {},
   "outputs": [
    {
     "data": {
      "text/plain": [
       "\"<module 'math' from '/Users/dave-wadestein/opt/anaconda3/lib/python3.9/lib-dynload/math.cpython-39-darwin.so'>\""
      ]
     },
     "execution_count": 27,
     "metadata": {},
     "output_type": "execute_result"
    }
   ],
   "source": [
    "str(math)"
   ]
  },
  {
   "cell_type": "code",
   "execution_count": 28,
   "id": "cac2b478-23a0-4311-b7a6-6c3c9c341cbb",
   "metadata": {},
   "outputs": [
    {
     "data": {
      "text/plain": [
       "'<built-in function print>'"
      ]
     },
     "execution_count": 28,
     "metadata": {},
     "output_type": "execute_result"
    }
   ],
   "source": [
    "str(print)"
   ]
  },
  {
   "cell_type": "code",
   "execution_count": 29,
   "id": "e4af6128-b6ce-4f04-80b9-e7cbdfdf9613",
   "metadata": {},
   "outputs": [
    {
     "data": {
      "text/plain": [
       "'1'"
      ]
     },
     "execution_count": 29,
     "metadata": {},
     "output_type": "execute_result"
    }
   ],
   "source": [
    "str(1)"
   ]
  },
  {
   "cell_type": "code",
   "execution_count": 30,
   "id": "6bee4962-e2d8-4f62-a87a-fa66d9b0705a",
   "metadata": {},
   "outputs": [
    {
     "data": {
      "text/plain": [
       "'1.2'"
      ]
     },
     "execution_count": 30,
     "metadata": {},
     "output_type": "execute_result"
    }
   ],
   "source": [
    "str(1.2)"
   ]
  },
  {
   "cell_type": "code",
   "execution_count": 35,
   "id": "929da1fa-429b-4c54-a867-ff23b2699cc7",
   "metadata": {},
   "outputs": [
    {
     "data": {
      "text/plain": [
       "'value'"
      ]
     },
     "execution_count": 35,
     "metadata": {},
     "output_type": "execute_result"
    }
   ],
   "source": [
    "str('value')"
   ]
  },
  {
   "cell_type": "code",
   "execution_count": 32,
   "id": "b42d52db-54a4-4861-b94d-b901f9771a20",
   "metadata": {},
   "outputs": [
    {
     "data": {
      "text/plain": [
       "'False'"
      ]
     },
     "execution_count": 32,
     "metadata": {},
     "output_type": "execute_result"
    }
   ],
   "source": [
    "str(False)"
   ]
  },
  {
   "cell_type": "code",
   "execution_count": 33,
   "id": "fadda265-38e5-4f85-a82e-698a294f76ea",
   "metadata": {},
   "outputs": [],
   "source": [
    "value = 2"
   ]
  },
  {
   "cell_type": "code",
   "execution_count": 37,
   "id": "69eefc2b-3e81-4c45-8ce0-722fd1e6e470",
   "metadata": {},
   "outputs": [
    {
     "data": {
      "text/plain": [
       "'2'"
      ]
     },
     "execution_count": 37,
     "metadata": {},
     "output_type": "execute_result"
    }
   ],
   "source": [
    "str(value) # take the value inside this variable and give me back a string version of it"
   ]
  },
  {
   "cell_type": "code",
   "execution_count": 38,
   "id": "9848010d-21fc-4ef4-bc1e-a12a0bbb297c",
   "metadata": {},
   "outputs": [
    {
     "data": {
      "text/plain": [
       "2"
      ]
     },
     "execution_count": 38,
     "metadata": {},
     "output_type": "execute_result"
    }
   ],
   "source": [
    "value"
   ]
  },
  {
   "cell_type": "code",
   "execution_count": 39,
   "id": "d3a057dd-7338-4da1-a0b9-7a478624fbe7",
   "metadata": {},
   "outputs": [],
   "source": [
    "int_value = 2"
   ]
  },
  {
   "cell_type": "code",
   "execution_count": 40,
   "id": "374153f0-205f-40a4-a835-654245443e30",
   "metadata": {},
   "outputs": [],
   "source": [
    "str_value = str(int_value)"
   ]
  },
  {
   "cell_type": "code",
   "execution_count": 41,
   "id": "69bb0a86-3809-4f85-b20e-41c7cfb2ec3e",
   "metadata": {},
   "outputs": [],
   "source": [
    "name = 'Bruce Lee'"
   ]
  },
  {
   "cell_type": "code",
   "execution_count": 42,
   "id": "2695075b-8cdc-427c-b5b4-ecf0d1abc331",
   "metadata": {},
   "outputs": [
    {
     "data": {
      "text/plain": [
       "'Bruce Lee'"
      ]
     },
     "execution_count": 42,
     "metadata": {},
     "output_type": "execute_result"
    }
   ],
   "source": [
    "name # tell me the value of name, or \"evaluate\" name"
   ]
  },
  {
   "cell_type": "code",
   "execution_count": 43,
   "id": "fa5afe06-ef6b-4eb8-913f-18fc10f137a7",
   "metadata": {},
   "outputs": [
    {
     "name": "stdout",
     "output_type": "stream",
     "text": [
      "Bruce Lee\n"
     ]
    }
   ],
   "source": [
    "print(name) # print out the contents of name"
   ]
  },
  {
   "cell_type": "code",
   "execution_count": 44,
   "id": "494d9be2-ad71-425a-bccf-28b03c7031d6",
   "metadata": {},
   "outputs": [
    {
     "data": {
      "text/plain": [
       "6"
      ]
     },
     "execution_count": 44,
     "metadata": {},
     "output_type": "execute_result"
    }
   ],
   "source": [
    "2 + 4 # tell me (or evaluate) the result of this expression "
   ]
  },
  {
   "cell_type": "code",
   "execution_count": 45,
   "id": "180f27e0-1b73-42c7-84b6-d734e127807e",
   "metadata": {},
   "outputs": [
    {
     "name": "stdout",
     "output_type": "stream",
     "text": [
      "6\n"
     ]
    }
   ],
   "source": [
    "print(2 + 4)"
   ]
  },
  {
   "cell_type": "code",
   "execution_count": 46,
   "id": "81439c90-0f7a-41f4-8676-c91ed6324d5e",
   "metadata": {},
   "outputs": [],
   "source": [
    "first, last = 'Taylor', 'Swift'"
   ]
  },
  {
   "cell_type": "code",
   "execution_count": 47,
   "id": "b1d7ecd5-9ca2-44f8-b740-143f22accb08",
   "metadata": {},
   "outputs": [
    {
     "data": {
      "text/plain": [
       "'Taylor'"
      ]
     },
     "execution_count": 47,
     "metadata": {},
     "output_type": "execute_result"
    }
   ],
   "source": [
    "first"
   ]
  },
  {
   "cell_type": "code",
   "execution_count": 48,
   "id": "507dae23-952d-4594-a433-48731c71e7df",
   "metadata": {},
   "outputs": [
    {
     "data": {
      "text/plain": [
       "'Swift'"
      ]
     },
     "execution_count": 48,
     "metadata": {},
     "output_type": "execute_result"
    }
   ],
   "source": [
    "last"
   ]
  },
  {
   "cell_type": "code",
   "execution_count": 50,
   "id": "0ed48b3c-e8b3-4495-b9b3-a3d9b12544f5",
   "metadata": {},
   "outputs": [],
   "source": [
    "cost, city = 19.95, 'Hermitage' # no"
   ]
  },
  {
   "cell_type": "code",
   "execution_count": 51,
   "id": "c5e6addb-d7c0-4754-8e2b-69d32e327b4d",
   "metadata": {},
   "outputs": [
    {
     "data": {
      "text/plain": [
       "4"
      ]
     },
     "execution_count": 51,
     "metadata": {},
     "output_type": "execute_result"
    }
   ],
   "source": [
    "2 + 2"
   ]
  },
  {
   "cell_type": "code",
   "execution_count": 54,
   "id": "ee1d0a7b-95f3-4648-befd-3144fe08bcd1",
   "metadata": {},
   "outputs": [
    {
     "data": {
      "text/plain": [
       "'22'"
      ]
     },
     "execution_count": 54,
     "metadata": {},
     "output_type": "execute_result"
    }
   ],
   "source": [
    "'2' + '2'"
   ]
  },
  {
   "cell_type": "code",
   "execution_count": 55,
   "id": "d8aa1a56-1f04-4935-b19c-9e080d7ced26",
   "metadata": {},
   "outputs": [
    {
     "data": {
      "text/plain": [
       "4"
      ]
     },
     "execution_count": 55,
     "metadata": {},
     "output_type": "execute_result"
    }
   ],
   "source": [
    "2 * 2"
   ]
  },
  {
   "cell_type": "code",
   "execution_count": 58,
   "id": "8a0cce98-f495-4c5e-b033-f4d7e635bddb",
   "metadata": {},
   "outputs": [
    {
     "data": {
      "text/plain": [
       "'22'"
      ]
     },
     "execution_count": 58,
     "metadata": {},
     "output_type": "execute_result"
    }
   ],
   "source": [
    "'2' * 2"
   ]
  },
  {
   "cell_type": "code",
   "execution_count": 59,
   "id": "06e36373-53fc-4f3f-ab4e-48ff353a6047",
   "metadata": {},
   "outputs": [
    {
     "data": {
      "text/plain": [
       "9"
      ]
     },
     "execution_count": 59,
     "metadata": {},
     "output_type": "execute_result"
    }
   ],
   "source": [
    "len('Bruce Lee')"
   ]
  },
  {
   "cell_type": "code",
   "execution_count": 60,
   "id": "a6da9b80-155f-4bfb-a3de-5f3f29c91655",
   "metadata": {},
   "outputs": [
    {
     "ename": "TypeError",
     "evalue": "object of type 'int' has no len()",
     "output_type": "error",
     "traceback": [
      "\u001b[0;31m---------------------------------------------------------------------------\u001b[0m",
      "\u001b[0;31mTypeError\u001b[0m                                 Traceback (most recent call last)",
      "Input \u001b[0;32mIn [60]\u001b[0m, in \u001b[0;36m<cell line: 1>\u001b[0;34m()\u001b[0m\n\u001b[0;32m----> 1\u001b[0m \u001b[38;5;28;43mlen\u001b[39;49m\u001b[43m(\u001b[49m\u001b[38;5;241;43m3\u001b[39;49m\u001b[43m)\u001b[49m\n",
      "\u001b[0;31mTypeError\u001b[0m: object of type 'int' has no len()"
     ]
    }
   ],
   "source": [
    "len(3)"
   ]
  },
  {
   "cell_type": "code",
   "execution_count": 61,
   "id": "c1244b53-77f4-405b-9d57-44e9841572e4",
   "metadata": {},
   "outputs": [
    {
     "data": {
      "text/plain": [
       "1"
      ]
     },
     "execution_count": 61,
     "metadata": {},
     "output_type": "execute_result"
    }
   ],
   "source": [
    "len('3')"
   ]
  },
  {
   "cell_type": "code",
   "execution_count": 63,
   "id": "3bde9b41-138e-4354-a95b-83dc4141d79c",
   "metadata": {},
   "outputs": [],
   "source": [
    "if 5 > 13:\n",
    "    print('yes, 5 is bigger than 3')"
   ]
  },
  {
   "cell_type": "code",
   "execution_count": 66,
   "id": "9f6c12da-4150-47b5-aa74-191fb1a30c25",
   "metadata": {},
   "outputs": [
    {
     "name": "stdin",
     "output_type": "stream",
     "text": [
      "Enter something:  45\n"
     ]
    }
   ],
   "source": [
    "thing = input('Enter something: ')"
   ]
  },
  {
   "cell_type": "code",
   "execution_count": 67,
   "id": "7c547835-3bab-495e-9dd4-14472a77a416",
   "metadata": {},
   "outputs": [
    {
     "data": {
      "text/plain": [
       "'45'"
      ]
     },
     "execution_count": 67,
     "metadata": {},
     "output_type": "execute_result"
    }
   ],
   "source": [
    "thing"
   ]
  },
  {
   "cell_type": "code",
   "execution_count": 71,
   "id": "698faed1-3b8c-47e3-b001-5b554db296d8",
   "metadata": {},
   "outputs": [
    {
     "data": {
      "text/plain": [
       "True"
      ]
     },
     "execution_count": 71,
     "metadata": {},
     "output_type": "execute_result"
    }
   ],
   "source": [
    "'D' in 'Deloitte'"
   ]
  },
  {
   "cell_type": "code",
   "execution_count": 75,
   "id": "3eee76a8-882f-4329-8582-4cdcb6733646",
   "metadata": {},
   "outputs": [
    {
     "data": {
      "text/plain": [
       "True"
      ]
     },
     "execution_count": 75,
     "metadata": {},
     "output_type": "execute_result"
    }
   ],
   "source": [
    "'it' in 'Deloitte'"
   ]
  },
  {
   "cell_type": "code",
   "execution_count": 76,
   "id": "a25bcc6d-3288-4186-b78a-b0910fed8319",
   "metadata": {},
   "outputs": [
    {
     "data": {
      "text/plain": [
       "140207840163568"
      ]
     },
     "execution_count": 76,
     "metadata": {},
     "output_type": "execute_result"
    }
   ],
   "source": [
    "id(thing)"
   ]
  },
  {
   "cell_type": "code",
   "execution_count": 79,
   "id": "e8d3943a-dcb5-4d72-9434-38c02268e5ef",
   "metadata": {},
   "outputs": [
    {
     "data": {
      "text/plain": [
       "140206657724960"
      ]
     },
     "execution_count": 79,
     "metadata": {},
     "output_type": "execute_result"
    }
   ],
   "source": [
    "id(random)"
   ]
  },
  {
   "cell_type": "code",
   "execution_count": 78,
   "id": "85de40b5-7bdc-438e-b7eb-09f9bf8c5033",
   "metadata": {},
   "outputs": [],
   "source": [
    "import random"
   ]
  },
  {
   "cell_type": "code",
   "execution_count": 89,
   "id": "42e315a7-4ff5-43f1-a458-da2960506093",
   "metadata": {},
   "outputs": [
    {
     "data": {
      "text/plain": [
       "42"
      ]
     },
     "execution_count": 89,
     "metadata": {},
     "output_type": "execute_result"
    }
   ],
   "source": [
    "random.randint(1, 100)"
   ]
  },
  {
   "cell_type": "code",
   "execution_count": 90,
   "id": "19f34ee3-83ee-4a80-b740-dc00cd071317",
   "metadata": {},
   "outputs": [
    {
     "name": "stdout",
     "output_type": "stream",
     "text": [
      "Help on method randint in module random:\n",
      "\n",
      "randint(a, b) method of random.Random instance\n",
      "    Return random integer in range [a, b], including both end points.\n",
      "\n"
     ]
    }
   ],
   "source": [
    "help(random.randint)"
   ]
  },
  {
   "cell_type": "code",
   "execution_count": 97,
   "id": "177c0022-db3f-45c9-80d3-eb58efb8635a",
   "metadata": {},
   "outputs": [
    {
     "name": "stdout",
     "output_type": "stream",
     "text": [
      "Random number: 10\n"
     ]
    }
   ],
   "source": [
    "import random\n",
    "\n",
    "# Generate a random integer between 1 and 10 (inclusive)\n",
    "random_number = random.randint(1, 10)\n",
    "\n",
    "print(\"Random number:\", random_number)"
   ]
  },
  {
   "cell_type": "code",
   "execution_count": 102,
   "id": "6804881a-8928-49c1-9900-63a45f2c429d",
   "metadata": {},
   "outputs": [
    {
     "data": {
      "text/plain": [
       "59049"
      ]
     },
     "execution_count": 102,
     "metadata": {},
     "output_type": "execute_result"
    }
   ],
   "source": [
    "3 ** 10"
   ]
  },
  {
   "cell_type": "code",
   "execution_count": 101,
   "id": "bb2a4113-9eb1-4449-b062-ae0195354a3a",
   "metadata": {},
   "outputs": [
    {
     "data": {
      "text/plain": [
       "27"
      ]
     },
     "execution_count": 101,
     "metadata": {},
     "output_type": "execute_result"
    }
   ],
   "source": [
    "3 * 3 * 3"
   ]
  },
  {
   "cell_type": "markdown",
   "id": "9bb1fb81-d333-4b06-81c1-eedeea5737d4",
   "metadata": {},
   "source": [
    "## Quick Lab: Loops/Strings\n",
    "* have the user enter a string, then loop through the string to generate (or print) a new string in which every character is duplicated, e.g., \"Python\" => \"PPyytthhoonn\""
   ]
  },
  {
   "cell_type": "code",
   "execution_count": 113,
   "id": "019af009-06e0-48c5-aa8e-0abea28c417f",
   "metadata": {},
   "outputs": [
    {
     "name": "stdin",
     "output_type": "stream",
     "text": [
      "Enter =>  Python\n"
     ]
    },
    {
     "data": {
      "text/plain": [
       "'Python'"
      ]
     },
     "execution_count": 113,
     "metadata": {},
     "output_type": "execute_result"
    }
   ],
   "source": [
    "input('Enter => ')"
   ]
  },
  {
   "cell_type": "code",
   "execution_count": 114,
   "id": "faff3828-8b24-4c03-9872-b0acb771e67e",
   "metadata": {},
   "outputs": [
    {
     "name": "stdin",
     "output_type": "stream",
     "text": [
      "Enter =>  Python\n"
     ]
    }
   ],
   "source": [
    "user_input = input('Enter => ')"
   ]
  },
  {
   "cell_type": "code",
   "execution_count": 111,
   "id": "33033707-d190-4bf0-bd1e-692ad9784454",
   "metadata": {},
   "outputs": [
    {
     "data": {
      "text/plain": [
       "140207507612096"
      ]
     },
     "execution_count": 111,
     "metadata": {},
     "output_type": "execute_result"
    }
   ],
   "source": [
    "id(user_input)"
   ]
  },
  {
   "cell_type": "code",
   "execution_count": 115,
   "id": "a74e98aa-4b96-4c8a-a42f-3736ca156ecd",
   "metadata": {},
   "outputs": [
    {
     "data": {
      "text/plain": [
       "'Python'"
      ]
     },
     "execution_count": 115,
     "metadata": {},
     "output_type": "execute_result"
    }
   ],
   "source": [
    "user_input"
   ]
  },
  {
   "cell_type": "code",
   "execution_count": 116,
   "id": "6229a751-5554-4c05-8623-9a6d6407e199",
   "metadata": {},
   "outputs": [],
   "source": [
    "# 1. write down the steps to solve the problem in English\n",
    "# (or write down the steps such that another person could read them and do the task)\n",
    "# (if you can't solve it yourself, it's impossible for you to write code to solve it\n",
    "# 2. covert each step into Python code"
   ]
  },
  {
   "cell_type": "code",
   "execution_count": null,
   "id": "014bdb2e-36f6-47e2-8bd5-1c1c5a4d591d",
   "metadata": {},
   "outputs": [],
   "source": [
    "# 1. ask someone for a word or phrase\n",
    "# 2. for each letter of the word/phrase:\n",
    "# 3.     write the letter twice"
   ]
  },
  {
   "cell_type": "code",
   "execution_count": null,
   "id": "f90366b6-52c4-4299-8c3a-ca79e4a077a3",
   "metadata": {},
   "outputs": [],
   "source": [
    "# 1. get input from the user\n",
    "# 2. for (each) letter in the input:\n",
    "# 3.     print the letter twice"
   ]
  },
  {
   "cell_type": "code",
   "execution_count": 124,
   "id": "aba96141-b8e9-45cd-a91a-f34c2daeef59",
   "metadata": {},
   "outputs": [
    {
     "name": "stdin",
     "output_type": "stream",
     "text": [
      "Give me a word or a phrase:  Edsger\n"
     ]
    },
    {
     "name": "stdout",
     "output_type": "stream",
     "text": [
      "EEddssggeerr"
     ]
    }
   ],
   "source": [
    "user_input = input('Give me a word or a phrase: ') # 1\n",
    "for letter in user_input: # 2\n",
    "    print(letter * 2, end='') # 3...print each letter twice, followed by NOTHING (instead of \\n)"
   ]
  },
  {
   "cell_type": "code",
   "execution_count": 125,
   "id": "5a69b809-abf4-4e6d-ac43-28add28c3342",
   "metadata": {},
   "outputs": [
    {
     "name": "stdout",
     "output_type": "stream",
     "text": [
      "EEddssggeerr"
     ]
    }
   ],
   "source": [
    "# how else can we do it?\n",
    "for letter in user_input: # 2\n",
    "    print(letter + letter, end='') # 3"
   ]
  },
  {
   "cell_type": "code",
   "execution_count": 126,
   "id": "9aa3b822-b3bb-4b72-944a-6295531c53ed",
   "metadata": {},
   "outputs": [
    {
     "name": "stdout",
     "output_type": "stream",
     "text": [
      "EEddssggeerr"
     ]
    }
   ],
   "source": [
    "# another way?\n",
    "for letter in user_input: # 2\n",
    "    print(letter, end=letter) # 3"
   ]
  },
  {
   "cell_type": "code",
   "execution_count": 128,
   "id": "2d3e78d8-738b-43c8-afa2-5553c2024304",
   "metadata": {},
   "outputs": [
    {
     "name": "stdout",
     "output_type": "stream",
     "text": [
      "EEddssggeerr"
     ]
    }
   ],
   "source": [
    "# more?\n",
    "for letter in user_input: # 2\n",
    "    print(letter, letter, sep='', end='') # 3"
   ]
  },
  {
   "cell_type": "code",
   "execution_count": 129,
   "id": "8f991a1e-b53d-4ece-94bd-a03df297bc91",
   "metadata": {},
   "outputs": [
    {
     "name": "stdout",
     "output_type": "stream",
     "text": [
      "EEddssggeerr"
     ]
    }
   ],
   "source": [
    "# Paul made mine complicated\n",
    "input_length = len(user_input) # calculating length of input\n",
    "index = 0\n",
    "while i < input_length:\n",
    "    print(user_input[index] * 2, end=\"\")\n",
    "    index += 1"
   ]
  },
  {
   "cell_type": "code",
   "execution_count": 131,
   "id": "bd0e4646-ee40-444d-9e43-c507b03ca91a",
   "metadata": {},
   "outputs": [
    {
     "name": "stdout",
     "output_type": "stream",
     "text": [
      "EEddssggeerr"
     ]
    }
   ],
   "source": [
    "# Paul made less complicated\n",
    "input_length = len(user_input) # calculating length of input\n",
    "for index in range(0, input_length):\n",
    "    print(user_input[index] * 2, end=\"\")"
   ]
  },
  {
   "cell_type": "markdown",
   "id": "9a6bcb9d-3bc8-450b-9d68-95bd8cef1282",
   "metadata": {},
   "source": [
    "## (Group) Lab: Loops\n",
    "* Loop through the numbers from 2 to 25 and print out which numbers are prime, and for those numbers which are not prime numbers, print out if they are divisible 2, 3, or 5\n",
    "* prime = no divisors other than 1 and itself\n",
    "* example output:\n",
    "<pre>\n",
    "2 is PRIME\n",
    "3 is PRIME\n",
    "4 is divisible by 2\n",
    "5 is PRIME\n",
    "6 is divisible by 2\n",
    "7 is PRIME\n",
    "8 is divisible by 2\n",
    "9 is divisible by 3\n",
    "10 is divisible by 2\n",
    "11 is PRIME\n",
    "12 is divisible by 2\n",
    "13 is PRIME\n",
    "14 is divisible by 2\n",
    "15 is divisible by 3\n",
    "16 is divisible by 2\n",
    "17 is PRIME\n",
    "18 is divisible by 2\n",
    "19 is PRIME\n",
    "20 is divisible by 2\n",
    "21 is divisible by 3\n",
    "22 is divisible by 2\n",
    "23 is PRIME\n",
    "24 is divisible by 2\n",
    "25 is divisible by 5\n",
    "</pre>"
   ]
  },
  {
   "cell_type": "code",
   "execution_count": null,
   "id": "0cfcec08-44d1-4423-ab64-0592fa6c4a53",
   "metadata": {},
   "outputs": [],
   "source": [
    "# 1. write down the numbers 2 to 25, vertically on white board\n",
    "# 2. for each of those numbers\n",
    "# 3.    see if any number less than it can divide evenly (except for 1)\n",
    "# 3a.   if so, then it's not prime, because it's divisible by the number we found\n",
    "#       and therefore write \"divisible by x\", where x is that lower number that divided in\n",
    "#.      and then STOP CHECKING to see if any else divides in\n",
    "# 3b.   if not, write \"is PRIME\""
   ]
  },
  {
   "cell_type": "code",
   "execution_count": null,
   "id": "5b544db3-b534-4e7c-b543-fd28b557da13",
   "metadata": {},
   "outputs": [],
   "source": [
    "# 1. for each number from 2 to 25:\n",
    "# 2.    for each possible divisor from 2 to that number - 1:\n",
    "# 3.        if possible divisor divides into that number evenly:\n",
    "# 3a.          \"number is divisible by possible divisor\"\n",
    "# 3b.          stop checking any further possible divisors\n",
    "# 4.    if we tried all the lower numbers and none divide in:\n",
    "# 5.        \"number is PRIME\""
   ]
  },
  {
   "cell_type": "code",
   "execution_count": 3,
   "id": "99e11629-8880-4b8a-ad48-d6938b2b0071",
   "metadata": {},
   "outputs": [
    {
     "name": "stdout",
     "output_type": "stream",
     "text": [
      "2 is PRIME\n",
      "3 is PRIME\n",
      "4 is divisible by 2\n",
      "5 is PRIME\n",
      "6 is divisible by 2\n",
      "7 is PRIME\n",
      "8 is divisible by 2\n",
      "9 is divisible by 3\n",
      "10 is divisible by 2\n",
      "11 is PRIME\n",
      "12 is divisible by 2\n",
      "13 is PRIME\n",
      "14 is divisible by 2\n",
      "15 is divisible by 3\n",
      "16 is divisible by 2\n",
      "17 is PRIME\n",
      "18 is divisible by 2\n",
      "19 is PRIME\n",
      "20 is divisible by 2\n",
      "21 is divisible by 3\n",
      "22 is divisible by 2\n",
      "23 is PRIME\n",
      "24 is divisible by 2\n",
      "25 is divisible by 5\n"
     ]
    }
   ],
   "source": [
    "for num in range(2, 26): # 1\n",
    "    what_divisor_did_we_find = 0 # keep track of any divisor we find\n",
    "    \n",
    "    for possible_divisor in range(2, num): # 2\n",
    "        if num % possible_divisor == 0: # 3\n",
    "            what_divisor_did_we_find = possible_divisor # we found a divisor\n",
    "            print(num, 'is divisible by', possible_divisor) # 3a\n",
    "            break # 3b, no need to check further\n",
    "    # outside the loop\n",
    "    if what_divisor_did_we_find == 0:\n",
    "        print(num, 'is PRIME')"
   ]
  },
  {
   "cell_type": "code",
   "execution_count": 5,
   "id": "545f73e2-b616-4d17-b9e3-01096c251c25",
   "metadata": {},
   "outputs": [
    {
     "name": "stdout",
     "output_type": "stream",
     "text": [
      "2 is PRIME\n",
      "3 is PRIME\n",
      "4 is divisible by 2\n",
      "5 is PRIME\n",
      "6 is divisible by 2\n",
      "7 is PRIME\n",
      "8 is divisible by 2\n",
      "9 is divisible by 3\n",
      "10 is divisible by 2\n",
      "11 is PRIME\n",
      "12 is divisible by 2\n",
      "13 is PRIME\n",
      "14 is divisible by 2\n",
      "15 is divisible by 3\n",
      "16 is divisible by 2\n",
      "17 is PRIME\n",
      "18 is divisible by 2\n",
      "19 is PRIME\n",
      "20 is divisible by 2\n",
      "21 is divisible by 3\n",
      "22 is divisible by 2\n",
      "23 is PRIME\n",
      "24 is divisible by 2\n",
      "25 is divisible by 5\n"
     ]
    }
   ],
   "source": [
    "for num in range(2, 26): # 1\n",
    "    divisor_found = False\n",
    "    \n",
    "    for possible_divisor in range(2, num): # 2\n",
    "        if num % possible_divisor == 0: # 3\n",
    "            divisor_found = True\n",
    "            print(num, 'is divisible by', possible_divisor) # 3a\n",
    "            break # 3b, no need to check further\n",
    "    # outside the loop\n",
    "    if not divisor_found: # if divisor_found == False\n",
    "        print(num, 'is PRIME')"
   ]
  },
  {
   "cell_type": "code",
   "execution_count": 7,
   "id": "b58fad64-28d5-4ef7-aeb5-01ed02023629",
   "metadata": {},
   "outputs": [
    {
     "name": "stdout",
     "output_type": "stream",
     "text": [
      "2 is PRIME\n",
      "3 is PRIME\n",
      "4 is divisible by 2\n",
      "5 is PRIME\n",
      "6 is divisible by 2\n",
      "7 is PRIME\n",
      "8 is divisible by 2\n",
      "9 is divisible by 3\n",
      "10 is divisible by 2\n",
      "11 is PRIME\n",
      "12 is divisible by 2\n",
      "13 is PRIME\n",
      "14 is divisible by 2\n",
      "15 is divisible by 3\n",
      "16 is divisible by 2\n",
      "17 is PRIME\n",
      "18 is divisible by 2\n",
      "19 is PRIME\n",
      "20 is divisible by 2\n",
      "21 is divisible by 3\n",
      "22 is divisible by 2\n",
      "23 is PRIME\n",
      "24 is divisible by 2\n",
      "25 is divisible by 5\n"
     ]
    }
   ],
   "source": [
    "for num in range(2, 26): # 1\n",
    "    its_prime = True\n",
    "    \n",
    "    for possible_divisor in range(2, num): # 2\n",
    "        if num % possible_divisor == 0: # 3\n",
    "            its_prime = False\n",
    "            print(num, 'is divisible by', possible_divisor) # 3a\n",
    "            break # 3b, no need to check further\n",
    "    # outside the loop\n",
    "    if its_prime: # == True\n",
    "        print(num, 'is PRIME')"
   ]
  },
  {
   "cell_type": "code",
   "execution_count": 8,
   "id": "d29a5bb6-bbe5-4b5c-9a58-597085a203b7",
   "metadata": {},
   "outputs": [
    {
     "name": "stdout",
     "output_type": "stream",
     "text": [
      "2 is PRIME\n",
      "3 is PRIME\n",
      "4 is divisible by 2\n",
      "5 is PRIME\n",
      "6 is divisible by 2\n",
      "7 is PRIME\n",
      "8 is divisible by 2\n",
      "9 is divisible by 3\n",
      "10 is divisible by 2\n",
      "11 is PRIME\n",
      "12 is divisible by 2\n",
      "13 is PRIME\n",
      "14 is divisible by 2\n",
      "15 is divisible by 3\n",
      "16 is divisible by 2\n",
      "17 is PRIME\n",
      "18 is divisible by 2\n",
      "19 is PRIME\n",
      "20 is divisible by 2\n",
      "21 is divisible by 3\n",
      "22 is divisible by 2\n",
      "23 is PRIME\n",
      "24 is divisible by 2\n",
      "25 is divisible by 5\n"
     ]
    }
   ],
   "source": [
    "for num in range(2, 26): # 1    \n",
    "    for possible_divisor in range(2, num): # 2\n",
    "        if num % possible_divisor == 0: # 3\n",
    "            print(num, 'is divisible by', possible_divisor) # 3a\n",
    "            break # 3b, no need to check further\n",
    "    # what don't we know here? ... how we got here?\n",
    "    else: # do this if we did NOT break\n",
    "        print(num, 'is PRIME')"
   ]
  },
  {
   "cell_type": "code",
   "execution_count": 9,
   "id": "127d49da-7600-4742-a723-c2d0ff2401d9",
   "metadata": {},
   "outputs": [
    {
     "data": {
      "text/plain": [
       "'t'"
      ]
     },
     "execution_count": 9,
     "metadata": {},
     "output_type": "execute_result"
    }
   ],
   "source": [
    "'Python'[2]"
   ]
  },
  {
   "cell_type": "code",
   "execution_count": 11,
   "id": "f72a9a5d-d135-441b-98a4-f0fef1302c30",
   "metadata": {},
   "outputs": [
    {
     "data": {
      "text/plain": [
       "'f'"
      ]
     },
     "execution_count": 11,
     "metadata": {},
     "output_type": "execute_result"
    }
   ],
   "source": [
    "'Taylor Swift'[-2]"
   ]
  },
  {
   "cell_type": "code",
   "execution_count": 14,
   "id": "4b17b1dd-019e-4602-a341-59aab2d066d0",
   "metadata": {},
   "outputs": [],
   "source": [
    "for num in range(5, 2): # empty range, ergo don't run the loop\n",
    "    print(num)"
   ]
  },
  {
   "cell_type": "code",
   "execution_count": 15,
   "id": "3c69c405-52de-4f99-8150-ef8ff26a8f2d",
   "metadata": {},
   "outputs": [
    {
     "data": {
      "text/plain": [
       "''"
      ]
     },
     "execution_count": 15,
     "metadata": {},
     "output_type": "execute_result"
    }
   ],
   "source": [
    "'Taylor'[5:2] # empty slice"
   ]
  },
  {
   "cell_type": "code",
   "execution_count": 16,
   "id": "23ef4d44-96ab-4ba6-829a-92b4b360e77f",
   "metadata": {},
   "outputs": [],
   "source": [
    "number = 13"
   ]
  },
  {
   "cell_type": "code",
   "execution_count": 17,
   "id": "9b69ca98-e31f-40b5-a685-102ce5e8d0aa",
   "metadata": {},
   "outputs": [
    {
     "name": "stdout",
     "output_type": "stream",
     "text": [
      "13\n"
     ]
    }
   ],
   "source": [
    "print(number)"
   ]
  },
  {
   "cell_type": "code",
   "execution_count": 18,
   "id": "8f5861b2-b48b-4be3-a2d7-96d71607ca8d",
   "metadata": {},
   "outputs": [
    {
     "data": {
      "text/plain": [
       "13"
      ]
     },
     "execution_count": 18,
     "metadata": {},
     "output_type": "execute_result"
    }
   ],
   "source": [
    "number"
   ]
  },
  {
   "cell_type": "code",
   "execution_count": 19,
   "id": "8948fb29-5c4f-4c65-b3d5-5ad97060563b",
   "metadata": {},
   "outputs": [
    {
     "data": {
      "text/plain": [
       "'13'"
      ]
     },
     "execution_count": 19,
     "metadata": {},
     "output_type": "execute_result"
    }
   ],
   "source": [
    "str(number)"
   ]
  },
  {
   "cell_type": "code",
   "execution_count": 20,
   "id": "39568bf4-559e-4d98-b4d7-04383ce4d40a",
   "metadata": {},
   "outputs": [
    {
     "data": {
      "text/plain": [
       "13"
      ]
     },
     "execution_count": 20,
     "metadata": {},
     "output_type": "execute_result"
    }
   ],
   "source": [
    "number"
   ]
  },
  {
   "cell_type": "code",
   "execution_count": 21,
   "id": "e653bb18-68f1-4653-8eff-30bae2dc5822",
   "metadata": {},
   "outputs": [
    {
     "data": {
      "text/plain": [
       "'1'"
      ]
     },
     "execution_count": 21,
     "metadata": {},
     "output_type": "execute_result"
    }
   ],
   "source": [
    "str(1)"
   ]
  },
  {
   "cell_type": "code",
   "execution_count": 22,
   "id": "660a4c4f-91f1-44f5-8e9b-71d3e7e1bc84",
   "metadata": {},
   "outputs": [
    {
     "data": {
      "text/plain": [
       "'1'"
      ]
     },
     "execution_count": 22,
     "metadata": {},
     "output_type": "execute_result"
    }
   ],
   "source": [
    "str('1')"
   ]
  },
  {
   "cell_type": "code",
   "execution_count": 23,
   "id": "f0376c53-6791-4218-98dd-79b72791190f",
   "metadata": {},
   "outputs": [
    {
     "data": {
      "text/plain": [
       "'1.53'"
      ]
     },
     "execution_count": 23,
     "metadata": {},
     "output_type": "execute_result"
    }
   ],
   "source": [
    "str(1.53)"
   ]
  },
  {
   "cell_type": "code",
   "execution_count": 24,
   "id": "201ed9b6-90c9-452d-81ff-100ff24eb29c",
   "metadata": {},
   "outputs": [
    {
     "data": {
      "text/plain": [
       "'True'"
      ]
     },
     "execution_count": 24,
     "metadata": {},
     "output_type": "execute_result"
    }
   ],
   "source": [
    "str(True)"
   ]
  },
  {
   "cell_type": "code",
   "execution_count": 25,
   "id": "25fbdf2b-9eb4-44d7-b6c1-db4cf7a86d33",
   "metadata": {},
   "outputs": [],
   "source": [
    "import math"
   ]
  },
  {
   "cell_type": "code",
   "execution_count": 26,
   "id": "e9dfd5c6-a6d1-4de3-a7cb-4aeb967645e4",
   "metadata": {},
   "outputs": [
    {
     "data": {
      "text/plain": [
       "\"<module 'math' from '/Users/dave-wadestein/opt/anaconda3/lib/python3.9/lib-dynload/math.cpython-39-darwin.so'>\""
      ]
     },
     "execution_count": 26,
     "metadata": {},
     "output_type": "execute_result"
    }
   ],
   "source": [
    "str(math)"
   ]
  },
  {
   "cell_type": "code",
   "execution_count": 27,
   "id": "f6e7f03d-5a9a-45bc-ab39-5c5faad9c244",
   "metadata": {},
   "outputs": [
    {
     "data": {
      "text/plain": [
       "'<built-in function print>'"
      ]
     },
     "execution_count": 27,
     "metadata": {},
     "output_type": "execute_result"
    }
   ],
   "source": [
    "str(print)"
   ]
  },
  {
   "cell_type": "code",
   "execution_count": 28,
   "id": "160dfc0d-c465-48f8-93e5-6d64029fc5a1",
   "metadata": {},
   "outputs": [
    {
     "name": "stdout",
     "output_type": "stream",
     "text": [
      "1\n"
     ]
    }
   ],
   "source": [
    "print(1)"
   ]
  },
  {
   "cell_type": "code",
   "execution_count": 29,
   "id": "7b8b55fc-29c4-44cf-9e81-97a863ae59b6",
   "metadata": {},
   "outputs": [
    {
     "name": "stdout",
     "output_type": "stream",
     "text": [
      "1.23\n"
     ]
    }
   ],
   "source": [
    "print(1.23)"
   ]
  },
  {
   "cell_type": "code",
   "execution_count": 30,
   "id": "c706faef-0384-4c08-a4de-465d90b9895c",
   "metadata": {},
   "outputs": [
    {
     "name": "stdout",
     "output_type": "stream",
     "text": [
      "<built-in function print>\n"
     ]
    }
   ],
   "source": [
    "print(print)"
   ]
  },
  {
   "cell_type": "code",
   "execution_count": 31,
   "id": "991f301b-9028-4c0f-b639-9b02caf602e7",
   "metadata": {},
   "outputs": [
    {
     "name": "stdout",
     "output_type": "stream",
     "text": [
      "Help on built-in function print in module builtins:\n",
      "\n",
      "print(...)\n",
      "    print(value, ..., sep=' ', end='\\n', file=sys.stdout, flush=False)\n",
      "    \n",
      "    Prints the values to a stream, or to sys.stdout by default.\n",
      "    Optional keyword arguments:\n",
      "    file:  a file-like object (stream); defaults to the current sys.stdout.\n",
      "    sep:   string inserted between values, default a space.\n",
      "    end:   string appended after the last value, default a newline.\n",
      "    flush: whether to forcibly flush the stream.\n",
      "\n"
     ]
    }
   ],
   "source": [
    "help(print)"
   ]
  },
  {
   "cell_type": "code",
   "execution_count": 32,
   "id": "58684490-afc8-4101-8baf-81cb39601d19",
   "metadata": {},
   "outputs": [
    {
     "name": "stdout",
     "output_type": "stream",
     "text": [
      "Help on module math:\n",
      "\n",
      "NAME\n",
      "    math\n",
      "\n",
      "MODULE REFERENCE\n",
      "    https://docs.python.org/3.9/library/math\n",
      "    \n",
      "    The following documentation is automatically generated from the Python\n",
      "    source files.  It may be incomplete, incorrect or include features that\n",
      "    are considered implementation detail and may vary between Python\n",
      "    implementations.  When in doubt, consult the module reference at the\n",
      "    location listed above.\n",
      "\n",
      "DESCRIPTION\n",
      "    This module provides access to the mathematical functions\n",
      "    defined by the C standard.\n",
      "\n",
      "FUNCTIONS\n",
      "    acos(x, /)\n",
      "        Return the arc cosine (measured in radians) of x.\n",
      "        \n",
      "        The result is between 0 and pi.\n",
      "    \n",
      "    acosh(x, /)\n",
      "        Return the inverse hyperbolic cosine of x.\n",
      "    \n",
      "    asin(x, /)\n",
      "        Return the arc sine (measured in radians) of x.\n",
      "        \n",
      "        The result is between -pi/2 and pi/2.\n",
      "    \n",
      "    asinh(x, /)\n",
      "        Return the inverse hyperbolic sine of x.\n",
      "    \n",
      "    atan(x, /)\n",
      "        Return the arc tangent (measured in radians) of x.\n",
      "        \n",
      "        The result is between -pi/2 and pi/2.\n",
      "    \n",
      "    atan2(y, x, /)\n",
      "        Return the arc tangent (measured in radians) of y/x.\n",
      "        \n",
      "        Unlike atan(y/x), the signs of both x and y are considered.\n",
      "    \n",
      "    atanh(x, /)\n",
      "        Return the inverse hyperbolic tangent of x.\n",
      "    \n",
      "    ceil(x, /)\n",
      "        Return the ceiling of x as an Integral.\n",
      "        \n",
      "        This is the smallest integer >= x.\n",
      "    \n",
      "    comb(n, k, /)\n",
      "        Number of ways to choose k items from n items without repetition and without order.\n",
      "        \n",
      "        Evaluates to n! / (k! * (n - k)!) when k <= n and evaluates\n",
      "        to zero when k > n.\n",
      "        \n",
      "        Also called the binomial coefficient because it is equivalent\n",
      "        to the coefficient of k-th term in polynomial expansion of the\n",
      "        expression (1 + x)**n.\n",
      "        \n",
      "        Raises TypeError if either of the arguments are not integers.\n",
      "        Raises ValueError if either of the arguments are negative.\n",
      "    \n",
      "    copysign(x, y, /)\n",
      "        Return a float with the magnitude (absolute value) of x but the sign of y.\n",
      "        \n",
      "        On platforms that support signed zeros, copysign(1.0, -0.0)\n",
      "        returns -1.0.\n",
      "    \n",
      "    cos(x, /)\n",
      "        Return the cosine of x (measured in radians).\n",
      "    \n",
      "    cosh(x, /)\n",
      "        Return the hyperbolic cosine of x.\n",
      "    \n",
      "    degrees(x, /)\n",
      "        Convert angle x from radians to degrees.\n",
      "    \n",
      "    dist(p, q, /)\n",
      "        Return the Euclidean distance between two points p and q.\n",
      "        \n",
      "        The points should be specified as sequences (or iterables) of\n",
      "        coordinates.  Both inputs must have the same dimension.\n",
      "        \n",
      "        Roughly equivalent to:\n",
      "            sqrt(sum((px - qx) ** 2.0 for px, qx in zip(p, q)))\n",
      "    \n",
      "    erf(x, /)\n",
      "        Error function at x.\n",
      "    \n",
      "    erfc(x, /)\n",
      "        Complementary error function at x.\n",
      "    \n",
      "    exp(x, /)\n",
      "        Return e raised to the power of x.\n",
      "    \n",
      "    expm1(x, /)\n",
      "        Return exp(x)-1.\n",
      "        \n",
      "        This function avoids the loss of precision involved in the direct evaluation of exp(x)-1 for small x.\n",
      "    \n",
      "    fabs(x, /)\n",
      "        Return the absolute value of the float x.\n",
      "    \n",
      "    factorial(x, /)\n",
      "        Find x!.\n",
      "        \n",
      "        Raise a ValueError if x is negative or non-integral.\n",
      "    \n",
      "    floor(x, /)\n",
      "        Return the floor of x as an Integral.\n",
      "        \n",
      "        This is the largest integer <= x.\n",
      "    \n",
      "    fmod(x, y, /)\n",
      "        Return fmod(x, y), according to platform C.\n",
      "        \n",
      "        x % y may differ.\n",
      "    \n",
      "    frexp(x, /)\n",
      "        Return the mantissa and exponent of x, as pair (m, e).\n",
      "        \n",
      "        m is a float and e is an int, such that x = m * 2.**e.\n",
      "        If x is 0, m and e are both 0.  Else 0.5 <= abs(m) < 1.0.\n",
      "    \n",
      "    fsum(seq, /)\n",
      "        Return an accurate floating point sum of values in the iterable seq.\n",
      "        \n",
      "        Assumes IEEE-754 floating point arithmetic.\n",
      "    \n",
      "    gamma(x, /)\n",
      "        Gamma function at x.\n",
      "    \n",
      "    gcd(*integers)\n",
      "        Greatest Common Divisor.\n",
      "    \n",
      "    hypot(...)\n",
      "        hypot(*coordinates) -> value\n",
      "        \n",
      "        Multidimensional Euclidean distance from the origin to a point.\n",
      "        \n",
      "        Roughly equivalent to:\n",
      "            sqrt(sum(x**2 for x in coordinates))\n",
      "        \n",
      "        For a two dimensional point (x, y), gives the hypotenuse\n",
      "        using the Pythagorean theorem:  sqrt(x*x + y*y).\n",
      "        \n",
      "        For example, the hypotenuse of a 3/4/5 right triangle is:\n",
      "        \n",
      "            >>> hypot(3.0, 4.0)\n",
      "            5.0\n",
      "    \n",
      "    isclose(a, b, *, rel_tol=1e-09, abs_tol=0.0)\n",
      "        Determine whether two floating point numbers are close in value.\n",
      "        \n",
      "          rel_tol\n",
      "            maximum difference for being considered \"close\", relative to the\n",
      "            magnitude of the input values\n",
      "          abs_tol\n",
      "            maximum difference for being considered \"close\", regardless of the\n",
      "            magnitude of the input values\n",
      "        \n",
      "        Return True if a is close in value to b, and False otherwise.\n",
      "        \n",
      "        For the values to be considered close, the difference between them\n",
      "        must be smaller than at least one of the tolerances.\n",
      "        \n",
      "        -inf, inf and NaN behave similarly to the IEEE 754 Standard.  That\n",
      "        is, NaN is not close to anything, even itself.  inf and -inf are\n",
      "        only close to themselves.\n",
      "    \n",
      "    isfinite(x, /)\n",
      "        Return True if x is neither an infinity nor a NaN, and False otherwise.\n",
      "    \n",
      "    isinf(x, /)\n",
      "        Return True if x is a positive or negative infinity, and False otherwise.\n",
      "    \n",
      "    isnan(x, /)\n",
      "        Return True if x is a NaN (not a number), and False otherwise.\n",
      "    \n",
      "    isqrt(n, /)\n",
      "        Return the integer part of the square root of the input.\n",
      "    \n",
      "    lcm(*integers)\n",
      "        Least Common Multiple.\n",
      "    \n",
      "    ldexp(x, i, /)\n",
      "        Return x * (2**i).\n",
      "        \n",
      "        This is essentially the inverse of frexp().\n",
      "    \n",
      "    lgamma(x, /)\n",
      "        Natural logarithm of absolute value of Gamma function at x.\n",
      "    \n",
      "    log(...)\n",
      "        log(x, [base=math.e])\n",
      "        Return the logarithm of x to the given base.\n",
      "        \n",
      "        If the base not specified, returns the natural logarithm (base e) of x.\n",
      "    \n",
      "    log10(x, /)\n",
      "        Return the base 10 logarithm of x.\n",
      "    \n",
      "    log1p(x, /)\n",
      "        Return the natural logarithm of 1+x (base e).\n",
      "        \n",
      "        The result is computed in a way which is accurate for x near zero.\n",
      "    \n",
      "    log2(x, /)\n",
      "        Return the base 2 logarithm of x.\n",
      "    \n",
      "    modf(x, /)\n",
      "        Return the fractional and integer parts of x.\n",
      "        \n",
      "        Both results carry the sign of x and are floats.\n",
      "    \n",
      "    nextafter(x, y, /)\n",
      "        Return the next floating-point value after x towards y.\n",
      "    \n",
      "    perm(n, k=None, /)\n",
      "        Number of ways to choose k items from n items without repetition and with order.\n",
      "        \n",
      "        Evaluates to n! / (n - k)! when k <= n and evaluates\n",
      "        to zero when k > n.\n",
      "        \n",
      "        If k is not specified or is None, then k defaults to n\n",
      "        and the function returns n!.\n",
      "        \n",
      "        Raises TypeError if either of the arguments are not integers.\n",
      "        Raises ValueError if either of the arguments are negative.\n",
      "    \n",
      "    pow(x, y, /)\n",
      "        Return x**y (x to the power of y).\n",
      "    \n",
      "    prod(iterable, /, *, start=1)\n",
      "        Calculate the product of all the elements in the input iterable.\n",
      "        \n",
      "        The default start value for the product is 1.\n",
      "        \n",
      "        When the iterable is empty, return the start value.  This function is\n",
      "        intended specifically for use with numeric values and may reject\n",
      "        non-numeric types.\n",
      "    \n",
      "    radians(x, /)\n",
      "        Convert angle x from degrees to radians.\n",
      "    \n",
      "    remainder(x, y, /)\n",
      "        Difference between x and the closest integer multiple of y.\n",
      "        \n",
      "        Return x - n*y where n*y is the closest integer multiple of y.\n",
      "        In the case where x is exactly halfway between two multiples of\n",
      "        y, the nearest even value of n is used. The result is always exact.\n",
      "    \n",
      "    sin(x, /)\n",
      "        Return the sine of x (measured in radians).\n",
      "    \n",
      "    sinh(x, /)\n",
      "        Return the hyperbolic sine of x.\n",
      "    \n",
      "    sqrt(x, /)\n",
      "        Return the square root of x.\n",
      "    \n",
      "    tan(x, /)\n",
      "        Return the tangent of x (measured in radians).\n",
      "    \n",
      "    tanh(x, /)\n",
      "        Return the hyperbolic tangent of x.\n",
      "    \n",
      "    trunc(x, /)\n",
      "        Truncates the Real x to the nearest Integral toward 0.\n",
      "        \n",
      "        Uses the __trunc__ magic method.\n",
      "    \n",
      "    ulp(x, /)\n",
      "        Return the value of the least significant bit of the float x.\n",
      "\n",
      "DATA\n",
      "    e = 2.718281828459045\n",
      "    inf = inf\n",
      "    nan = nan\n",
      "    pi = 3.141592653589793\n",
      "    tau = 6.283185307179586\n",
      "\n",
      "FILE\n",
      "    /Users/dave-wadestein/opt/anaconda3/lib/python3.9/lib-dynload/math.cpython-39-darwin.so\n",
      "\n",
      "\n"
     ]
    }
   ],
   "source": [
    "help(math)"
   ]
  },
  {
   "cell_type": "code",
   "execution_count": 33,
   "id": "70cc16d0-7589-43db-925d-a03d3afba095",
   "metadata": {},
   "outputs": [
    {
     "data": {
      "text/plain": [
       "13"
      ]
     },
     "execution_count": 33,
     "metadata": {},
     "output_type": "execute_result"
    }
   ],
   "source": [
    "number"
   ]
  },
  {
   "cell_type": "code",
   "execution_count": 34,
   "id": "996e9f09-b8b9-4a43-941a-fa5e99393bc1",
   "metadata": {},
   "outputs": [
    {
     "name": "stdout",
     "output_type": "stream",
     "text": [
      "Help on int object:\n",
      "\n",
      "class int(object)\n",
      " |  int([x]) -> integer\n",
      " |  int(x, base=10) -> integer\n",
      " |  \n",
      " |  Convert a number or string to an integer, or return 0 if no arguments\n",
      " |  are given.  If x is a number, return x.__int__().  For floating point\n",
      " |  numbers, this truncates towards zero.\n",
      " |  \n",
      " |  If x is not a number or if base is given, then x must be a string,\n",
      " |  bytes, or bytearray instance representing an integer literal in the\n",
      " |  given base.  The literal can be preceded by '+' or '-' and be surrounded\n",
      " |  by whitespace.  The base defaults to 10.  Valid bases are 0 and 2-36.\n",
      " |  Base 0 means to interpret the base from the string as an integer literal.\n",
      " |  >>> int('0b100', base=0)\n",
      " |  4\n",
      " |  \n",
      " |  Built-in subclasses:\n",
      " |      bool\n",
      " |  \n",
      " |  Methods defined here:\n",
      " |  \n",
      " |  __abs__(self, /)\n",
      " |      abs(self)\n",
      " |  \n",
      " |  __add__(self, value, /)\n",
      " |      Return self+value.\n",
      " |  \n",
      " |  __and__(self, value, /)\n",
      " |      Return self&value.\n",
      " |  \n",
      " |  __bool__(self, /)\n",
      " |      True if self else False\n",
      " |  \n",
      " |  __ceil__(...)\n",
      " |      Ceiling of an Integral returns itself.\n",
      " |  \n",
      " |  __divmod__(self, value, /)\n",
      " |      Return divmod(self, value).\n",
      " |  \n",
      " |  __eq__(self, value, /)\n",
      " |      Return self==value.\n",
      " |  \n",
      " |  __float__(self, /)\n",
      " |      float(self)\n",
      " |  \n",
      " |  __floor__(...)\n",
      " |      Flooring an Integral returns itself.\n",
      " |  \n",
      " |  __floordiv__(self, value, /)\n",
      " |      Return self//value.\n",
      " |  \n",
      " |  __format__(self, format_spec, /)\n",
      " |      Default object formatter.\n",
      " |  \n",
      " |  __ge__(self, value, /)\n",
      " |      Return self>=value.\n",
      " |  \n",
      " |  __getattribute__(self, name, /)\n",
      " |      Return getattr(self, name).\n",
      " |  \n",
      " |  __getnewargs__(self, /)\n",
      " |  \n",
      " |  __gt__(self, value, /)\n",
      " |      Return self>value.\n",
      " |  \n",
      " |  __hash__(self, /)\n",
      " |      Return hash(self).\n",
      " |  \n",
      " |  __index__(self, /)\n",
      " |      Return self converted to an integer, if self is suitable for use as an index into a list.\n",
      " |  \n",
      " |  __int__(self, /)\n",
      " |      int(self)\n",
      " |  \n",
      " |  __invert__(self, /)\n",
      " |      ~self\n",
      " |  \n",
      " |  __le__(self, value, /)\n",
      " |      Return self<=value.\n",
      " |  \n",
      " |  __lshift__(self, value, /)\n",
      " |      Return self<<value.\n",
      " |  \n",
      " |  __lt__(self, value, /)\n",
      " |      Return self<value.\n",
      " |  \n",
      " |  __mod__(self, value, /)\n",
      " |      Return self%value.\n",
      " |  \n",
      " |  __mul__(self, value, /)\n",
      " |      Return self*value.\n",
      " |  \n",
      " |  __ne__(self, value, /)\n",
      " |      Return self!=value.\n",
      " |  \n",
      " |  __neg__(self, /)\n",
      " |      -self\n",
      " |  \n",
      " |  __or__(self, value, /)\n",
      " |      Return self|value.\n",
      " |  \n",
      " |  __pos__(self, /)\n",
      " |      +self\n",
      " |  \n",
      " |  __pow__(self, value, mod=None, /)\n",
      " |      Return pow(self, value, mod).\n",
      " |  \n",
      " |  __radd__(self, value, /)\n",
      " |      Return value+self.\n",
      " |  \n",
      " |  __rand__(self, value, /)\n",
      " |      Return value&self.\n",
      " |  \n",
      " |  __rdivmod__(self, value, /)\n",
      " |      Return divmod(value, self).\n",
      " |  \n",
      " |  __repr__(self, /)\n",
      " |      Return repr(self).\n",
      " |  \n",
      " |  __rfloordiv__(self, value, /)\n",
      " |      Return value//self.\n",
      " |  \n",
      " |  __rlshift__(self, value, /)\n",
      " |      Return value<<self.\n",
      " |  \n",
      " |  __rmod__(self, value, /)\n",
      " |      Return value%self.\n",
      " |  \n",
      " |  __rmul__(self, value, /)\n",
      " |      Return value*self.\n",
      " |  \n",
      " |  __ror__(self, value, /)\n",
      " |      Return value|self.\n",
      " |  \n",
      " |  __round__(...)\n",
      " |      Rounding an Integral returns itself.\n",
      " |      Rounding with an ndigits argument also returns an integer.\n",
      " |  \n",
      " |  __rpow__(self, value, mod=None, /)\n",
      " |      Return pow(value, self, mod).\n",
      " |  \n",
      " |  __rrshift__(self, value, /)\n",
      " |      Return value>>self.\n",
      " |  \n",
      " |  __rshift__(self, value, /)\n",
      " |      Return self>>value.\n",
      " |  \n",
      " |  __rsub__(self, value, /)\n",
      " |      Return value-self.\n",
      " |  \n",
      " |  __rtruediv__(self, value, /)\n",
      " |      Return value/self.\n",
      " |  \n",
      " |  __rxor__(self, value, /)\n",
      " |      Return value^self.\n",
      " |  \n",
      " |  __sizeof__(self, /)\n",
      " |      Returns size in memory, in bytes.\n",
      " |  \n",
      " |  __sub__(self, value, /)\n",
      " |      Return self-value.\n",
      " |  \n",
      " |  __truediv__(self, value, /)\n",
      " |      Return self/value.\n",
      " |  \n",
      " |  __trunc__(...)\n",
      " |      Truncating an Integral returns itself.\n",
      " |  \n",
      " |  __xor__(self, value, /)\n",
      " |      Return self^value.\n",
      " |  \n",
      " |  as_integer_ratio(self, /)\n",
      " |      Return integer ratio.\n",
      " |      \n",
      " |      Return a pair of integers, whose ratio is exactly equal to the original int\n",
      " |      and with a positive denominator.\n",
      " |      \n",
      " |      >>> (10).as_integer_ratio()\n",
      " |      (10, 1)\n",
      " |      >>> (-10).as_integer_ratio()\n",
      " |      (-10, 1)\n",
      " |      >>> (0).as_integer_ratio()\n",
      " |      (0, 1)\n",
      " |  \n",
      " |  bit_length(self, /)\n",
      " |      Number of bits necessary to represent self in binary.\n",
      " |      \n",
      " |      >>> bin(37)\n",
      " |      '0b100101'\n",
      " |      >>> (37).bit_length()\n",
      " |      6\n",
      " |  \n",
      " |  conjugate(...)\n",
      " |      Returns self, the complex conjugate of any int.\n",
      " |  \n",
      " |  to_bytes(self, /, length, byteorder, *, signed=False)\n",
      " |      Return an array of bytes representing an integer.\n",
      " |      \n",
      " |      length\n",
      " |        Length of bytes object to use.  An OverflowError is raised if the\n",
      " |        integer is not representable with the given number of bytes.\n",
      " |      byteorder\n",
      " |        The byte order used to represent the integer.  If byteorder is 'big',\n",
      " |        the most significant byte is at the beginning of the byte array.  If\n",
      " |        byteorder is 'little', the most significant byte is at the end of the\n",
      " |        byte array.  To request the native byte order of the host system, use\n",
      " |        `sys.byteorder' as the byte order value.\n",
      " |      signed\n",
      " |        Determines whether two's complement is used to represent the integer.\n",
      " |        If signed is False and a negative integer is given, an OverflowError\n",
      " |        is raised.\n",
      " |  \n",
      " |  ----------------------------------------------------------------------\n",
      " |  Class methods defined here:\n",
      " |  \n",
      " |  from_bytes(bytes, byteorder, *, signed=False) from builtins.type\n",
      " |      Return the integer represented by the given array of bytes.\n",
      " |      \n",
      " |      bytes\n",
      " |        Holds the array of bytes to convert.  The argument must either\n",
      " |        support the buffer protocol or be an iterable object producing bytes.\n",
      " |        Bytes and bytearray are examples of built-in objects that support the\n",
      " |        buffer protocol.\n",
      " |      byteorder\n",
      " |        The byte order used to represent the integer.  If byteorder is 'big',\n",
      " |        the most significant byte is at the beginning of the byte array.  If\n",
      " |        byteorder is 'little', the most significant byte is at the end of the\n",
      " |        byte array.  To request the native byte order of the host system, use\n",
      " |        `sys.byteorder' as the byte order value.\n",
      " |      signed\n",
      " |        Indicates whether two's complement is used to represent the integer.\n",
      " |  \n",
      " |  ----------------------------------------------------------------------\n",
      " |  Static methods defined here:\n",
      " |  \n",
      " |  __new__(*args, **kwargs) from builtins.type\n",
      " |      Create and return a new object.  See help(type) for accurate signature.\n",
      " |  \n",
      " |  ----------------------------------------------------------------------\n",
      " |  Data descriptors defined here:\n",
      " |  \n",
      " |  denominator\n",
      " |      the denominator of a rational number in lowest terms\n",
      " |  \n",
      " |  imag\n",
      " |      the imaginary part of a complex number\n",
      " |  \n",
      " |  numerator\n",
      " |      the numerator of a rational number in lowest terms\n",
      " |  \n",
      " |  real\n",
      " |      the real part of a complex number\n",
      "\n"
     ]
    }
   ],
   "source": [
    "help(number)"
   ]
  },
  {
   "cell_type": "code",
   "execution_count": 35,
   "id": "4ecb05bb-7f17-4837-8d57-1ae731b42b60",
   "metadata": {},
   "outputs": [
    {
     "data": {
      "text/plain": [
       "140347720264368"
      ]
     },
     "execution_count": 35,
     "metadata": {},
     "output_type": "execute_result"
    }
   ],
   "source": [
    "id(number)"
   ]
  },
  {
   "cell_type": "code",
   "execution_count": 36,
   "id": "282c8506-da65-4518-b1a3-5076aad3b069",
   "metadata": {},
   "outputs": [
    {
     "data": {
      "text/plain": [
       "140347720573872"
      ]
     },
     "execution_count": 36,
     "metadata": {},
     "output_type": "execute_result"
    }
   ],
   "source": [
    "id(print)"
   ]
  },
  {
   "cell_type": "code",
   "execution_count": 37,
   "id": "4411ba3f-682b-4171-a055-a69a0e014da0",
   "metadata": {},
   "outputs": [
    {
     "data": {
      "text/plain": [
       "140347184856336"
      ]
     },
     "execution_count": 37,
     "metadata": {},
     "output_type": "execute_result"
    }
   ],
   "source": [
    "id(math)"
   ]
  },
  {
   "cell_type": "code",
   "execution_count": 38,
   "id": "6f3b6151-01db-49ea-bcc2-59eb23bc916e",
   "metadata": {},
   "outputs": [
    {
     "data": {
      "text/plain": [
       "2"
      ]
     },
     "execution_count": 38,
     "metadata": {},
     "output_type": "execute_result"
    }
   ],
   "source": [
    "min(2, 3)"
   ]
  },
  {
   "cell_type": "code",
   "execution_count": 39,
   "id": "682db7b1-d49f-45fe-92eb-2cd951e02bc9",
   "metadata": {},
   "outputs": [
    {
     "data": {
      "text/plain": [
       "2.3"
      ]
     },
     "execution_count": 39,
     "metadata": {},
     "output_type": "execute_result"
    }
   ],
   "source": [
    "min(2.3, 4.3)"
   ]
  },
  {
   "cell_type": "code",
   "execution_count": 40,
   "id": "a4d1d58e-d6ef-4cb8-be84-11132a88f5fc",
   "metadata": {},
   "outputs": [
    {
     "data": {
      "text/plain": [
       "2"
      ]
     },
     "execution_count": 40,
     "metadata": {},
     "output_type": "execute_result"
    }
   ],
   "source": [
    "min(2, 3, 4)"
   ]
  },
  {
   "cell_type": "code",
   "execution_count": 41,
   "id": "d8325b31-fcae-48e9-a12c-52a64e8b7b45",
   "metadata": {},
   "outputs": [
    {
     "data": {
      "text/plain": [
       "'that'"
      ]
     },
     "execution_count": 41,
     "metadata": {},
     "output_type": "execute_result"
    }
   ],
   "source": [
    "min('this', 'that')"
   ]
  },
  {
   "cell_type": "code",
   "execution_count": 42,
   "id": "c3ee4b6c-f2f8-4ed4-8545-d5f3ed73f669",
   "metadata": {},
   "outputs": [
    {
     "data": {
      "text/plain": [
       "'apple'"
      ]
     },
     "execution_count": 42,
     "metadata": {},
     "output_type": "execute_result"
    }
   ],
   "source": [
    "min('apple', 'fig')"
   ]
  },
  {
   "cell_type": "code",
   "execution_count": 47,
   "id": "214c890a-f6ca-4f89-886d-c7ae48a74bba",
   "metadata": {},
   "outputs": [
    {
     "data": {
      "text/plain": [
       "6"
      ]
     },
     "execution_count": 47,
     "metadata": {},
     "output_type": "execute_result"
    }
   ],
   "source": [
    "len('string') # only works on strings...? BUT NO, it only works on containers"
   ]
  },
  {
   "cell_type": "code",
   "execution_count": 46,
   "id": "925c9d29-4b2b-4a8f-a1cf-a4d9353299a1",
   "metadata": {},
   "outputs": [
    {
     "ename": "TypeError",
     "evalue": "object of type 'bool' has no len()",
     "output_type": "error",
     "traceback": [
      "\u001b[0;31m---------------------------------------------------------------------------\u001b[0m",
      "\u001b[0;31mTypeError\u001b[0m                                 Traceback (most recent call last)",
      "Input \u001b[0;32mIn [46]\u001b[0m, in \u001b[0;36m<cell line: 1>\u001b[0;34m()\u001b[0m\n\u001b[0;32m----> 1\u001b[0m \u001b[38;5;28;43mlen\u001b[39;49m\u001b[43m(\u001b[49m\u001b[38;5;28;43;01mTrue\u001b[39;49;00m\u001b[43m)\u001b[49m\n",
      "\u001b[0;31mTypeError\u001b[0m: object of type 'bool' has no len()"
     ]
    }
   ],
   "source": [
    "len(True)"
   ]
  },
  {
   "cell_type": "code",
   "execution_count": 48,
   "id": "07151e09-daab-4556-ac3d-6188ddde26e4",
   "metadata": {},
   "outputs": [
    {
     "ename": "NameError",
     "evalue": "name 'startswith' is not defined",
     "output_type": "error",
     "traceback": [
      "\u001b[0;31m---------------------------------------------------------------------------\u001b[0m",
      "\u001b[0;31mNameError\u001b[0m                                 Traceback (most recent call last)",
      "Input \u001b[0;32mIn [48]\u001b[0m, in \u001b[0;36m<cell line: 1>\u001b[0;34m()\u001b[0m\n\u001b[0;32m----> 1\u001b[0m \u001b[43mstartswith\u001b[49m(poem, \u001b[38;5;124m'\u001b[39m\u001b[38;5;124mTWO\u001b[39m\u001b[38;5;124m'\u001b[39m)\n",
      "\u001b[0;31mNameError\u001b[0m: name 'startswith' is not defined"
     ]
    }
   ],
   "source": [
    "startswith(poem, 'TWO')"
   ]
  },
  {
   "cell_type": "code",
   "execution_count": 49,
   "id": "1058ac75-1123-448a-b20d-15450fbb1f69",
   "metadata": {},
   "outputs": [],
   "source": [
    "string = 'Robert Frost'"
   ]
  },
  {
   "cell_type": "code",
   "execution_count": 50,
   "id": "81137bd3-3850-4628-8965-5996282605aa",
   "metadata": {},
   "outputs": [
    {
     "data": {
      "text/plain": [
       "12"
      ]
     },
     "execution_count": 50,
     "metadata": {},
     "output_type": "execute_result"
    }
   ],
   "source": [
    "len(string)"
   ]
  },
  {
   "cell_type": "code",
   "execution_count": 51,
   "id": "f8a63753-b7ed-4386-a814-687e728f03e0",
   "metadata": {},
   "outputs": [
    {
     "data": {
      "text/plain": [
       "True"
      ]
     },
     "execution_count": 51,
     "metadata": {},
     "output_type": "execute_result"
    }
   ],
   "source": [
    "string."
   ]
  },
  {
   "cell_type": "code",
   "execution_count": 57,
   "id": "0aa57b1e-6c42-49ce-b8d8-d8178d58f320",
   "metadata": {},
   "outputs": [],
   "source": [
    "name = ' \\t Bruce Lee  \\n \\t'"
   ]
  },
  {
   "cell_type": "code",
   "execution_count": 58,
   "id": "5754c313-9dd5-421d-ba57-ae3eac774d1c",
   "metadata": {},
   "outputs": [
    {
     "data": {
      "text/plain": [
       "' \\t Bruce Lee  \\n \\t'"
      ]
     },
     "execution_count": 58,
     "metadata": {},
     "output_type": "execute_result"
    }
   ],
   "source": [
    "name"
   ]
  },
  {
   "cell_type": "code",
   "execution_count": 54,
   "id": "18a9db1c-cb85-4a62-90a1-585f3c54b273",
   "metadata": {},
   "outputs": [
    {
     "data": {
      "text/plain": [
       "'Bruce Lee'"
      ]
     },
     "execution_count": 54,
     "metadata": {},
     "output_type": "execute_result"
    }
   ],
   "source": [
    "name.strip()"
   ]
  },
  {
   "cell_type": "code",
   "execution_count": 55,
   "id": "97b23597-b815-47dd-a1fb-9b9ed67b32a9",
   "metadata": {},
   "outputs": [
    {
     "data": {
      "text/plain": [
       "' \\t Bruce Lee  \\n \\t'"
      ]
     },
     "execution_count": 55,
     "metadata": {},
     "output_type": "execute_result"
    }
   ],
   "source": [
    "name"
   ]
  },
  {
   "cell_type": "code",
   "execution_count": 56,
   "id": "9e0213a8-94fd-4add-8fc8-fcdcf686131f",
   "metadata": {},
   "outputs": [
    {
     "data": {
      "text/plain": [
       "'Bruce Lee'"
      ]
     },
     "execution_count": 56,
     "metadata": {},
     "output_type": "execute_result"
    }
   ],
   "source": [
    "name = name.strip()\n",
    "name"
   ]
  },
  {
   "cell_type": "code",
   "execution_count": 60,
   "id": "9aafb152-92a0-461e-afcb-9f0177a7defc",
   "metadata": {},
   "outputs": [],
   "source": [
    "name = 'bruce Lee'"
   ]
  },
  {
   "cell_type": "code",
   "execution_count": 61,
   "id": "b4fdcb32-896c-4c34-8526-adf6914bf7da",
   "metadata": {},
   "outputs": [
    {
     "data": {
      "text/plain": [
       "'bruce Lee'"
      ]
     },
     "execution_count": 61,
     "metadata": {},
     "output_type": "execute_result"
    }
   ],
   "source": [
    "name"
   ]
  },
  {
   "cell_type": "code",
   "execution_count": 62,
   "id": "325d3f06-9302-4fad-8c1b-e31489dc80b3",
   "metadata": {},
   "outputs": [
    {
     "data": {
      "text/plain": [
       "'b'"
      ]
     },
     "execution_count": 62,
     "metadata": {},
     "output_type": "execute_result"
    }
   ],
   "source": [
    "name[0]"
   ]
  },
  {
   "cell_type": "code",
   "execution_count": 63,
   "id": "c3741e1e-4fd4-4426-928c-feb7511338e8",
   "metadata": {},
   "outputs": [
    {
     "ename": "TypeError",
     "evalue": "'str' object does not support item assignment",
     "output_type": "error",
     "traceback": [
      "\u001b[0;31m---------------------------------------------------------------------------\u001b[0m",
      "\u001b[0;31mTypeError\u001b[0m                                 Traceback (most recent call last)",
      "Input \u001b[0;32mIn [63]\u001b[0m, in \u001b[0;36m<cell line: 1>\u001b[0;34m()\u001b[0m\n\u001b[0;32m----> 1\u001b[0m name[\u001b[38;5;241m0\u001b[39m] \u001b[38;5;241m=\u001b[39m \u001b[38;5;124m'\u001b[39m\u001b[38;5;124mB\u001b[39m\u001b[38;5;124m'\u001b[39m\n",
      "\u001b[0;31mTypeError\u001b[0m: 'str' object does not support item assignment"
     ]
    }
   ],
   "source": [
    "name[0] = 'B'"
   ]
  },
  {
   "cell_type": "code",
   "execution_count": 64,
   "id": "1ccc41ab-7ba0-488d-9d04-09b4cf9886d8",
   "metadata": {},
   "outputs": [],
   "source": [
    "name = 'Bruce Lee'"
   ]
  },
  {
   "cell_type": "code",
   "execution_count": 65,
   "id": "7b01ca02-f8f5-4e8a-81a1-6027f221fd1e",
   "metadata": {},
   "outputs": [
    {
     "data": {
      "text/plain": [
       "'Bruce Lee'"
      ]
     },
     "execution_count": 65,
     "metadata": {},
     "output_type": "execute_result"
    }
   ],
   "source": [
    "name"
   ]
  },
  {
   "cell_type": "code",
   "execution_count": 66,
   "id": "d4574576-f6c1-44d8-a433-4ecd241e80a5",
   "metadata": {},
   "outputs": [
    {
     "data": {
      "text/plain": [
       "3"
      ]
     },
     "execution_count": 66,
     "metadata": {},
     "output_type": "execute_result"
    }
   ],
   "source": [
    "name.count('e') # here's a method that couldn't possibly change the object"
   ]
  },
  {
   "cell_type": "code",
   "execution_count": 68,
   "id": "31c3f655-2084-4fe1-9050-390ec101b3b1",
   "metadata": {},
   "outputs": [
    {
     "data": {
      "text/plain": [
       "'Brucx Lxx'"
      ]
     },
     "execution_count": 68,
     "metadata": {},
     "output_type": "execute_result"
    }
   ],
   "source": [
    "'Bruce Lee'.replace('e', 'x')"
   ]
  },
  {
   "cell_type": "markdown",
   "id": "c99edadf-e95d-4648-95c2-6af0f1efdf3a",
   "metadata": {},
   "source": [
    "## Quick Lab: String Functions\n",
    "* write a Python program to read in a string and then print it out as\n",
    "  * a title\n",
    "  * all upper case\n",
    "  * all lower case\n",
    "* also, replace all vowels in the string with the letter 'x'\n",
    "   * you can use the __`.replace()`__ method to replace each vowel, one at a time"
   ]
  },
  {
   "cell_type": "code",
   "execution_count": 70,
   "id": "9f5454c1-d550-450d-87cb-f0f3371ef6bc",
   "metadata": {},
   "outputs": [
    {
     "name": "stdin",
     "output_type": "stream",
     "text": [
      "Tell me:  pack my box with five dozen liquor jugs\n"
     ]
    },
    {
     "name": "stdout",
     "output_type": "stream",
     "text": [
      "Pack My Box With Five Dozen Liquor Jugs\n",
      "PACK MY BOX WITH FIVE DOZEN LIQUOR JUGS\n",
      "pack my box with five dozen liquor jugs\n",
      "after replacing a it looks like this: pxck my box with five dozen liquor jugs\n",
      "after replacing e it looks like this: pxck my box with fivx dozxn liquor jugs\n",
      "after replacing i it looks like this: pxck my box wxth fxvx dozxn lxquor jugs\n",
      "after replacing o it looks like this: pxck my bxx wxth fxvx dxzxn lxquxr jugs\n",
      "after replacing u it looks like this: pxck my bxx wxth fxvx dxzxn lxqxxr jxgs\n"
     ]
    }
   ],
   "source": [
    "string = input('Tell me: ')\n",
    "print(string.title(), string.upper(), string.lower(), sep='\\n') # one per line\n",
    "\n",
    "for vowel in 'aeiou': # for thing in container\n",
    "    string = string.replace(vowel, 'x') # replace each vowel with an x\n",
    "    print('after replacing', vowel, 'it looks like this:', string)"
   ]
  },
  {
   "cell_type": "markdown",
   "id": "6f0c0298-eab6-408f-aaab-2fa2937fa116",
   "metadata": {},
   "source": [
    "## Lab: String Functions\n",
    "* write a Python program to read in a string and print it out such that\n",
    "  * the first, third, fifth, etc. letters are **lower** case\n",
    "  * the second, fourth, sixth, etc. letters are **UPPER** case\n",
    "  * e.g., if the input is __Guido van Rossum__, the output would be:\n",
    "    * __gUiDo vAn rOsSuM__"
   ]
  },
  {
   "cell_type": "code",
   "execution_count": 75,
   "id": "eeaeaa96-b6c0-41df-916e-ab88def921c4",
   "metadata": {},
   "outputs": [
    {
     "name": "stdout",
     "output_type": "stream",
     "text": [
      "G u i d o   v a n   R o s s u m "
     ]
    }
   ],
   "source": [
    "string = 'Guido van Rossum'\n",
    "for char in string:\n",
    "    print(char, end=' ')"
   ]
  },
  {
   "cell_type": "code",
   "execution_count": 76,
   "id": "edc3d0c9-39c0-4834-abb9-6dc29257245f",
   "metadata": {},
   "outputs": [],
   "source": [
    "# 1. get a string\n",
    "# 2. for each letter/char in the string:\n",
    "# 3.    starting w/first letter make every other letter lower case \n",
    "# 4.    and the rest (every other letter starting w/second) upper case"
   ]
  },
  {
   "cell_type": "code",
   "execution_count": 78,
   "id": "c8bb4c2c-2b63-4b7b-83eb-d9db36170bc1",
   "metadata": {},
   "outputs": [],
   "source": [
    "# 1. get a string from the user (e.g., input)\n",
    "# 1a. set a counter to 0\n",
    "# 2. for each char in the string:\n",
    "# 3.    if the counter is even, make it lower\n",
    "# 4.    else make it upper (counter must be odd)\n",
    "# 4a.   increment the counter"
   ]
  },
  {
   "cell_type": "code",
   "execution_count": 79,
   "id": "7d06d2c1-f5f9-4d1f-b2a0-eefa2635889f",
   "metadata": {},
   "outputs": [
    {
     "name": "stdin",
     "output_type": "stream",
     "text": [
      "What?  Guido van Rossum\n"
     ]
    },
    {
     "name": "stdout",
     "output_type": "stream",
     "text": [
      "gUiDo vAn rOsSuM"
     ]
    }
   ],
   "source": [
    "string = input('What? ') # 1. get a string\n",
    "count = 0 # 1a. initialize counter\n",
    "for letter in string: # 2. for each letter of the string\n",
    "    if count % 2 == 0: # 3. is it an even index?\n",
    "        print(letter.lower(), end='') # 3. yes, so make it lower\n",
    "    else:\n",
    "        print(letter.upper(), end='') # 4. no, so make it upper\n",
    "    count += 1 # 4a. increment the counter"
   ]
  },
  {
   "cell_type": "code",
   "execution_count": null,
   "id": "f9301d96-9ce5-425d-9934-1fa95e5e5390",
   "metadata": {},
   "outputs": [],
   "source": [
    "string = input('What? ') # 1. get a string\n",
    "count = 0 # 1a. initialize counter\n",
    "for letter in string: # 2. for each letter of the string\n",
    "    if count % 2 == 0: # 3. is it an even index?\n",
    "        print(letter.lower(), end='') # 3. yes, so make it lower\n",
    "    else:\n",
    "        print(letter.upper(), end='') # 4. no, so make it upper\n",
    "    count += 1 # 4a. increment the counter"
   ]
  },
  {
   "cell_type": "code",
   "execution_count": 80,
   "id": "539a2ab7-5720-411f-b39d-06c262e265ad",
   "metadata": {},
   "outputs": [
    {
     "name": "stdout",
     "output_type": "stream",
     "text": [
      "G\n",
      "u\n",
      "i\n",
      "d\n",
      "o\n",
      " \n",
      "v\n",
      "a\n",
      "n\n",
      " \n",
      "R\n",
      "o\n",
      "s\n",
      "s\n",
      "u\n",
      "m\n"
     ]
    }
   ],
   "source": [
    "for char in string:\n",
    "    print(char)"
   ]
  },
  {
   "cell_type": "code",
   "execution_count": 81,
   "id": "e561a8fc-953a-446c-9d74-243635e00d98",
   "metadata": {},
   "outputs": [
    {
     "name": "stdout",
     "output_type": "stream",
     "text": [
      "0 G\n",
      "1 u\n",
      "2 i\n",
      "3 d\n",
      "4 o\n",
      "5  \n",
      "6 v\n",
      "7 a\n",
      "8 n\n",
      "9  \n",
      "10 R\n",
      "11 o\n",
      "12 s\n",
      "13 s\n",
      "14 u\n",
      "15 m\n"
     ]
    }
   ],
   "source": [
    "for index in range(0, len(string)):\n",
    "    print(index, string[index])"
   ]
  },
  {
   "cell_type": "code",
   "execution_count": 83,
   "id": "33cb731e-1be0-426f-8940-f4cf990e5426",
   "metadata": {},
   "outputs": [
    {
     "name": "stdin",
     "output_type": "stream",
     "text": [
      "What?  Guido van Rossum\n"
     ]
    },
    {
     "name": "stdout",
     "output_type": "stream",
     "text": [
      "gUiDo vAn rOsSuM"
     ]
    }
   ],
   "source": [
    "string = input('What? ') # 1. get a string\n",
    "for index in range(0, len(string)):\n",
    "    if index % 2 == 0: # 3. is it an even index?\n",
    "        print(string[index].lower(), end='') # 3. yes, so make it lower\n",
    "    else:\n",
    "        print(string[index].upper(), end='') # 4. no, so make it upper"
   ]
  },
  {
   "cell_type": "code",
   "execution_count": 84,
   "id": "a2d10ae6-c70e-451c-ba95-a1504258b425",
   "metadata": {},
   "outputs": [
    {
     "data": {
      "text/plain": [
       "['Guido', 'van', 'Rossum']"
      ]
     },
     "execution_count": 84,
     "metadata": {},
     "output_type": "execute_result"
    }
   ],
   "source": [
    "string.split()"
   ]
  },
  {
   "cell_type": "code",
   "execution_count": 85,
   "id": "a6ca36af-52c9-47f2-9666-ba80740d2b5d",
   "metadata": {},
   "outputs": [
    {
     "ename": "AttributeError",
     "evalue": "'list' object has no attribute 'join'",
     "output_type": "error",
     "traceback": [
      "\u001b[0;31m---------------------------------------------------------------------------\u001b[0m",
      "\u001b[0;31mAttributeError\u001b[0m                            Traceback (most recent call last)",
      "Input \u001b[0;32mIn [85]\u001b[0m, in \u001b[0;36m<cell line: 1>\u001b[0;34m()\u001b[0m\n\u001b[0;32m----> 1\u001b[0m \u001b[43m[\u001b[49m\u001b[38;5;124;43m'\u001b[39;49m\u001b[38;5;124;43mGuido\u001b[39;49m\u001b[38;5;124;43m'\u001b[39;49m\u001b[43m,\u001b[49m\u001b[43m \u001b[49m\u001b[38;5;124;43m'\u001b[39;49m\u001b[38;5;124;43mvan\u001b[39;49m\u001b[38;5;124;43m'\u001b[39;49m\u001b[43m,\u001b[49m\u001b[43m \u001b[49m\u001b[38;5;124;43m'\u001b[39;49m\u001b[38;5;124;43mRossum\u001b[39;49m\u001b[38;5;124;43m'\u001b[39;49m\u001b[43m]\u001b[49m\u001b[38;5;241;43m.\u001b[39;49m\u001b[43mjoin\u001b[49m(\u001b[38;5;124m'\u001b[39m\u001b[38;5;124m \u001b[39m\u001b[38;5;124m'\u001b[39m)\n",
      "\u001b[0;31mAttributeError\u001b[0m: 'list' object has no attribute 'join'"
     ]
    }
   ],
   "source": [
    "['Guido', 'van', 'Rossum'].join(' ')"
   ]
  },
  {
   "cell_type": "code",
   "execution_count": 86,
   "id": "0a9e2133-7e9f-4f43-a0d1-18047eb1e53e",
   "metadata": {},
   "outputs": [
    {
     "data": {
      "text/plain": [
       "4315099936"
      ]
     },
     "execution_count": 86,
     "metadata": {},
     "output_type": "execute_result"
    }
   ],
   "source": [
    "id(str)"
   ]
  },
  {
   "cell_type": "code",
   "execution_count": 87,
   "id": "069fea54-81ec-4dbe-8ed4-70eaa4a1d7bd",
   "metadata": {},
   "outputs": [
    {
     "data": {
      "text/plain": [
       "4315061072"
      ]
     },
     "execution_count": 87,
     "metadata": {},
     "output_type": "execute_result"
    }
   ],
   "source": [
    "id(int)"
   ]
  },
  {
   "cell_type": "code",
   "execution_count": 88,
   "id": "1c17da27-e1ad-41d3-b148-780c70362a11",
   "metadata": {},
   "outputs": [
    {
     "name": "stdout",
     "output_type": "stream",
     "text": [
      "Help on method_descriptor:\n",
      "\n",
      "upper(self, /)\n",
      "    Return a copy of the string converted to uppercase.\n",
      "\n"
     ]
    }
   ],
   "source": [
    "help(str.upper)"
   ]
  },
  {
   "cell_type": "code",
   "execution_count": 89,
   "id": "3f8bc176-d6e3-4041-9d7e-28a488bfe7bb",
   "metadata": {},
   "outputs": [
    {
     "data": {
      "text/plain": [
       "140347720365696"
      ]
     },
     "execution_count": 89,
     "metadata": {},
     "output_type": "execute_result"
    }
   ],
   "source": [
    "id(str.upper)"
   ]
  },
  {
   "cell_type": "code",
   "execution_count": 102,
   "id": "de3f8018-5e55-400a-a829-c26c0e75d6b6",
   "metadata": {},
   "outputs": [
    {
     "data": {
      "text/plain": [
       "'Guido van Rossum'"
      ]
     },
     "execution_count": 102,
     "metadata": {},
     "output_type": "execute_result"
    }
   ],
   "source": [
    "string"
   ]
  },
  {
   "cell_type": "code",
   "execution_count": 103,
   "id": "1c0d1cce-bdbe-401c-986a-891ef0d86eb6",
   "metadata": {},
   "outputs": [],
   "source": [
    "names = string.split()"
   ]
  },
  {
   "cell_type": "code",
   "execution_count": 104,
   "id": "e801d824-2704-4824-82e1-7d33b1e17e20",
   "metadata": {},
   "outputs": [
    {
     "data": {
      "text/plain": [
       "['Guido', 'van', 'Rossum']"
      ]
     },
     "execution_count": 104,
     "metadata": {},
     "output_type": "execute_result"
    }
   ],
   "source": [
    "names"
   ]
  },
  {
   "cell_type": "code",
   "execution_count": 93,
   "id": "bb159ba5-50f6-4f50-8dbc-d9eb004847ac",
   "metadata": {},
   "outputs": [
    {
     "data": {
      "text/plain": [
       "list"
      ]
     },
     "execution_count": 93,
     "metadata": {},
     "output_type": "execute_result"
    }
   ],
   "source": [
    "type(names)"
   ]
  },
  {
   "cell_type": "code",
   "execution_count": 94,
   "id": "36f92f01-07f1-4d2a-a535-5a0255f86034",
   "metadata": {},
   "outputs": [
    {
     "data": {
      "text/plain": [
       "4315058848"
      ]
     },
     "execution_count": 94,
     "metadata": {},
     "output_type": "execute_result"
    }
   ],
   "source": [
    "id(list)"
   ]
  },
  {
   "cell_type": "code",
   "execution_count": 98,
   "id": "d18ec420-3d81-4412-81be-5563f4672121",
   "metadata": {},
   "outputs": [
    {
     "ename": "AttributeError",
     "evalue": "'list' object has no attribute 'join'",
     "output_type": "error",
     "traceback": [
      "\u001b[0;31m---------------------------------------------------------------------------\u001b[0m",
      "\u001b[0;31mAttributeError\u001b[0m                            Traceback (most recent call last)",
      "Input \u001b[0;32mIn [98]\u001b[0m, in \u001b[0;36m<cell line: 1>\u001b[0;34m()\u001b[0m\n\u001b[0;32m----> 1\u001b[0m \u001b[43mnames\u001b[49m\u001b[38;5;241;43m.\u001b[39;49m\u001b[43mjoin\u001b[49m(\u001b[38;5;124m'\u001b[39m\u001b[38;5;124m \u001b[39m\u001b[38;5;124m'\u001b[39m)\n",
      "\u001b[0;31mAttributeError\u001b[0m: 'list' object has no attribute 'join'"
     ]
    }
   ],
   "source": [
    "names.join(' ') # call the (non-existent) list method join()"
   ]
  },
  {
   "cell_type": "code",
   "execution_count": 100,
   "id": "487b2f56-f4c6-4414-aa69-b4b1251bcafe",
   "metadata": {},
   "outputs": [
    {
     "data": {
      "text/plain": [
       "'Guido van Rossum'"
      ]
     },
     "execution_count": 100,
     "metadata": {},
     "output_type": "execute_result"
    }
   ],
   "source": [
    "' '.join(names) # call the str method join()"
   ]
  },
  {
   "cell_type": "code",
   "execution_count": 99,
   "id": "184b57ee-ff3b-4126-ad47-8b0d996d2262",
   "metadata": {},
   "outputs": [],
   "source": [
    "# separator DOT join ( container )"
   ]
  },
  {
   "cell_type": "code",
   "execution_count": 101,
   "id": "c6081d47-a999-4051-83ab-871f1a5fa97f",
   "metadata": {},
   "outputs": [
    {
     "data": {
      "text/plain": [
       "'Guido-van-Rossum'"
      ]
     },
     "execution_count": 101,
     "metadata": {},
     "output_type": "execute_result"
    }
   ],
   "source": [
    "'-'.join(names) # call the str method join()"
   ]
  },
  {
   "cell_type": "code",
   "execution_count": 108,
   "id": "55de5415-f83b-48eb-8601-5c22057c1fa0",
   "metadata": {},
   "outputs": [
    {
     "data": {
      "text/plain": [
       "'Guido***van***Rossum'"
      ]
     },
     "execution_count": 108,
     "metadata": {},
     "output_type": "execute_result"
    }
   ],
   "source": [
    "'***'.join(names)"
   ]
  },
  {
   "cell_type": "code",
   "execution_count": 109,
   "id": "24eef04e-7c58-43ba-91df-81c841cf4f9c",
   "metadata": {},
   "outputs": [
    {
     "ename": "AttributeError",
     "evalue": "'list' object has no attribute 'join'",
     "output_type": "error",
     "traceback": [
      "\u001b[0;31m---------------------------------------------------------------------------\u001b[0m",
      "\u001b[0;31mAttributeError\u001b[0m                            Traceback (most recent call last)",
      "Input \u001b[0;32mIn [109]\u001b[0m, in \u001b[0;36m<cell line: 1>\u001b[0;34m()\u001b[0m\n\u001b[0;32m----> 1\u001b[0m \u001b[43mnames\u001b[49m\u001b[38;5;241;43m.\u001b[39;49m\u001b[43mjoin\u001b[49m(\u001b[38;5;124m'\u001b[39m\u001b[38;5;124m \u001b[39m\u001b[38;5;124m'\u001b[39m)\n",
      "\u001b[0;31mAttributeError\u001b[0m: 'list' object has no attribute 'join'"
     ]
    }
   ],
   "source": [
    "names.join(' ')"
   ]
  },
  {
   "cell_type": "code",
   "execution_count": 110,
   "id": "3d7e9967-ef82-4ec4-b8f1-7789cc8172bc",
   "metadata": {},
   "outputs": [
    {
     "data": {
      "text/plain": [
       "'Guido van Rossum'"
      ]
     },
     "execution_count": 110,
     "metadata": {},
     "output_type": "execute_result"
    }
   ],
   "source": [
    "' '.join(names)"
   ]
  },
  {
   "cell_type": "code",
   "execution_count": 111,
   "id": "4acd3412-262e-4c03-8676-33d4c0d0fcec",
   "metadata": {},
   "outputs": [],
   "source": [
    "cars = ['Tesla', 'Fisker', 'Rivian', 'Lordstown']"
   ]
  },
  {
   "cell_type": "code",
   "execution_count": 112,
   "id": "6aea2113-150e-424a-890e-1c45b0beeab4",
   "metadata": {},
   "outputs": [
    {
     "name": "stdout",
     "output_type": "stream",
     "text": [
      "['Tesla', 'Fisker', 'Rivian', 'Lordstown']\n"
     ]
    }
   ],
   "source": [
    "print(cars)"
   ]
  },
  {
   "cell_type": "code",
   "execution_count": 118,
   "id": "b974d5e8-4c44-4313-8ebb-c96ff37723a4",
   "metadata": {},
   "outputs": [
    {
     "name": "stdout",
     "output_type": "stream",
     "text": [
      "1\n",
      "2\n",
      "3\n",
      "4\n",
      "5\n"
     ]
    }
   ],
   "source": [
    "# when a for loop is encountered by Python, the first thing \n",
    "# it does is create the variable that you named, and after\n",
    "# that it puts each item from the container into that variable\n",
    "# one at a time, until all items have been processed\n",
    "for digit in '12345': # for thing in container\n",
    "    print(digit)"
   ]
  },
  {
   "cell_type": "code",
   "execution_count": 119,
   "id": "138e9a5a-abf2-420f-8a44-a1c2c3bc50fb",
   "metadata": {},
   "outputs": [
    {
     "ename": "SyntaxError",
     "evalue": "invalid syntax (2371725744.py, line 1)",
     "output_type": "error",
     "traceback": [
      "\u001b[0;36m  Input \u001b[0;32mIn [119]\u001b[0;36m\u001b[0m\n\u001b[0;31m    for else in cars:\u001b[0m\n\u001b[0m        ^\u001b[0m\n\u001b[0;31mSyntaxError\u001b[0m\u001b[0;31m:\u001b[0m invalid syntax\n"
     ]
    }
   ],
   "source": [
    "for car in cars:\n",
    "    print(car)"
   ]
  },
  {
   "cell_type": "code",
   "execution_count": 120,
   "id": "0a0f45be-483d-4559-86c8-accecf142298",
   "metadata": {},
   "outputs": [
    {
     "data": {
      "text/plain": [
       "['False',\n",
       " 'None',\n",
       " 'True',\n",
       " '__peg_parser__',\n",
       " 'and',\n",
       " 'as',\n",
       " 'assert',\n",
       " 'async',\n",
       " 'await',\n",
       " 'break',\n",
       " 'class',\n",
       " 'continue',\n",
       " 'def',\n",
       " 'del',\n",
       " 'elif',\n",
       " 'else',\n",
       " 'except',\n",
       " 'finally',\n",
       " 'for',\n",
       " 'from',\n",
       " 'global',\n",
       " 'if',\n",
       " 'import',\n",
       " 'in',\n",
       " 'is',\n",
       " 'lambda',\n",
       " 'nonlocal',\n",
       " 'not',\n",
       " 'or',\n",
       " 'pass',\n",
       " 'raise',\n",
       " 'return',\n",
       " 'try',\n",
       " 'while',\n",
       " 'with',\n",
       " 'yield']"
      ]
     },
     "execution_count": 120,
     "metadata": {},
     "output_type": "execute_result"
    }
   ],
   "source": [
    "import keyword\n",
    "keyword.kwlist"
   ]
  },
  {
   "cell_type": "code",
   "execution_count": 121,
   "id": "61fa9093-75ac-47c9-9a35-d3fbc307ead1",
   "metadata": {},
   "outputs": [
    {
     "data": {
      "text/plain": [
       "36"
      ]
     },
     "execution_count": 121,
     "metadata": {},
     "output_type": "execute_result"
    }
   ],
   "source": [
    "len(keyword.kwlist)"
   ]
  },
  {
   "cell_type": "code",
   "execution_count": 122,
   "id": "6ac7e0e0-e13c-46c4-833a-2692a2ed2522",
   "metadata": {},
   "outputs": [],
   "source": [
    "something = 'good'"
   ]
  },
  {
   "cell_type": "code",
   "execution_count": 124,
   "id": "8fff1c18-cb42-40bd-b555-59c6d589e90a",
   "metadata": {},
   "outputs": [],
   "source": [
    "super_ok = 'Yay!'"
   ]
  },
  {
   "cell_type": "code",
   "execution_count": 125,
   "id": "1aaf8716-e4fa-4266-95e4-c03c8448bc0a",
   "metadata": {},
   "outputs": [
    {
     "ename": "SyntaxError",
     "evalue": "invalid syntax (3583279196.py, line 1)",
     "output_type": "error",
     "traceback": [
      "\u001b[0;36m  Input \u001b[0;32mIn [125]\u001b[0;36m\u001b[0m\n\u001b[0;31m    help(if)\u001b[0m\n\u001b[0m         ^\u001b[0m\n\u001b[0;31mSyntaxError\u001b[0m\u001b[0;31m:\u001b[0m invalid syntax\n"
     ]
    }
   ],
   "source": [
    "help(if)"
   ]
  },
  {
   "cell_type": "code",
   "execution_count": 126,
   "id": "c14636ef-398b-411d-8b7f-ad54fb0f0426",
   "metadata": {},
   "outputs": [],
   "source": [
    "numlist = [1, 2, 5]"
   ]
  },
  {
   "cell_type": "code",
   "execution_count": 127,
   "id": "10d95634-bead-468c-9527-bdb9e8194022",
   "metadata": {},
   "outputs": [],
   "source": [
    "len = 4"
   ]
  },
  {
   "cell_type": "code",
   "execution_count": 128,
   "id": "5b1f3196-078b-42a9-9883-9cfd5791fec2",
   "metadata": {},
   "outputs": [
    {
     "ename": "TypeError",
     "evalue": "'int' object is not callable",
     "output_type": "error",
     "traceback": [
      "\u001b[0;31m---------------------------------------------------------------------------\u001b[0m",
      "\u001b[0;31mTypeError\u001b[0m                                 Traceback (most recent call last)",
      "Input \u001b[0;32mIn [128]\u001b[0m, in \u001b[0;36m<cell line: 1>\u001b[0;34m()\u001b[0m\n\u001b[0;32m----> 1\u001b[0m \u001b[38;5;28;43mlen\u001b[39;49m\u001b[43m(\u001b[49m\u001b[38;5;124;43m'\u001b[39;49m\u001b[38;5;124;43mhi\u001b[39;49m\u001b[38;5;124;43m'\u001b[39;49m\u001b[43m)\u001b[49m\n",
      "\u001b[0;31mTypeError\u001b[0m: 'int' object is not callable"
     ]
    }
   ],
   "source": [
    "len('hi')"
   ]
  },
  {
   "cell_type": "code",
   "execution_count": 129,
   "id": "f3f49d95-4c00-4bfd-bc9e-126b0212e0dc",
   "metadata": {},
   "outputs": [],
   "source": [
    "del len"
   ]
  },
  {
   "cell_type": "code",
   "execution_count": 130,
   "id": "040a73ec-e789-4b59-88ff-d7f4c11bb740",
   "metadata": {},
   "outputs": [
    {
     "data": {
      "text/plain": [
       "2"
      ]
     },
     "execution_count": 130,
     "metadata": {},
     "output_type": "execute_result"
    }
   ],
   "source": [
    "len('hi')"
   ]
  },
  {
   "cell_type": "code",
   "execution_count": 131,
   "id": "24dded3d-b2b6-4ace-a466-01ef74f787b7",
   "metadata": {},
   "outputs": [],
   "source": [
    "nums = [1, 2, 3, 1]"
   ]
  },
  {
   "cell_type": "code",
   "execution_count": 132,
   "id": "d01dde0b-3861-4f46-9ce6-125847e97f17",
   "metadata": {},
   "outputs": [],
   "source": [
    "nums.remove(1)"
   ]
  },
  {
   "cell_type": "code",
   "execution_count": 133,
   "id": "f89a84d6-e337-4641-969a-de4552d441d7",
   "metadata": {},
   "outputs": [
    {
     "data": {
      "text/plain": [
       "[2, 3, 1]"
      ]
     },
     "execution_count": 133,
     "metadata": {},
     "output_type": "execute_result"
    }
   ],
   "source": [
    "nums"
   ]
  },
  {
   "cell_type": "code",
   "execution_count": 151,
   "id": "c144a566-c134-487b-a287-9129fd3ab4df",
   "metadata": {},
   "outputs": [
    {
     "data": {
      "text/plain": [
       "['this', 'is', 'a', 'string']"
      ]
     },
     "execution_count": 151,
     "metadata": {},
     "output_type": "execute_result"
    }
   ],
   "source": [
    "words = 'this is a string'.split()\n",
    "words"
   ]
  },
  {
   "cell_type": "code",
   "execution_count": 138,
   "id": "9be0749c-ca8d-4ed7-826c-b6c86d744d9a",
   "metadata": {},
   "outputs": [
    {
     "data": {
      "text/plain": [
       "'this, is, a, string'"
      ]
     },
     "execution_count": 138,
     "metadata": {},
     "output_type": "execute_result"
    }
   ],
   "source": [
    "', '.join(words)"
   ]
  },
  {
   "cell_type": "code",
   "execution_count": 139,
   "id": "52e4bc21-8c2b-4fa1-bf48-c2dcdfbf2b67",
   "metadata": {},
   "outputs": [
    {
     "data": {
      "text/plain": [
       "['a', 'is', 'string', 'this']"
      ]
     },
     "execution_count": 139,
     "metadata": {},
     "output_type": "execute_result"
    }
   ],
   "source": [
    "sorted(words)"
   ]
  },
  {
   "cell_type": "code",
   "execution_count": null,
   "id": "5e2b6c12-4532-4c32-bad3-ca8d19ab64d8",
   "metadata": {},
   "outputs": [],
   "source": [
    "# is sorted modifying the 'words' list? NO\n",
    "# did sorted create a new list? YES"
   ]
  },
  {
   "cell_type": "code",
   "execution_count": 143,
   "id": "c7f51f9d-2d9d-4d3d-b588-c953dbd91b15",
   "metadata": {},
   "outputs": [],
   "source": [
    "sorted_words = sorted(words)"
   ]
  },
  {
   "cell_type": "code",
   "execution_count": 144,
   "id": "8e706513-5977-49f1-a8b7-87b433ed92c8",
   "metadata": {},
   "outputs": [
    {
     "data": {
      "text/plain": [
       "['a', 'is', 'string', 'this']"
      ]
     },
     "execution_count": 144,
     "metadata": {},
     "output_type": "execute_result"
    }
   ],
   "source": [
    "sorted_words"
   ]
  },
  {
   "cell_type": "code",
   "execution_count": 145,
   "id": "be4cf8b8-2ad0-4d80-898f-885d8354bdf3",
   "metadata": {},
   "outputs": [
    {
     "data": {
      "text/plain": [
       "['this', 'is', 'a', 'string']"
      ]
     },
     "execution_count": 145,
     "metadata": {},
     "output_type": "execute_result"
    }
   ],
   "source": [
    "words"
   ]
  },
  {
   "cell_type": "code",
   "execution_count": 146,
   "id": "8e7587fd-c91b-4175-959d-81d12213d6c9",
   "metadata": {},
   "outputs": [
    {
     "data": {
      "text/plain": [
       "['a', 'is', 'string', 'this']"
      ]
     },
     "execution_count": 146,
     "metadata": {},
     "output_type": "execute_result"
    }
   ],
   "source": [
    "sorted(words)"
   ]
  },
  {
   "cell_type": "code",
   "execution_count": 147,
   "id": "6a645b30-dce0-4072-8313-b3eadd5e41a6",
   "metadata": {},
   "outputs": [
    {
     "data": {
      "text/plain": [
       "['this', 'is', 'a', 'string']"
      ]
     },
     "execution_count": 147,
     "metadata": {},
     "output_type": "execute_result"
    }
   ],
   "source": [
    "words"
   ]
  },
  {
   "cell_type": "code",
   "execution_count": 148,
   "id": "e5355707-2860-404a-9e41-a0b2678603e0",
   "metadata": {},
   "outputs": [
    {
     "name": "stdout",
     "output_type": "stream",
     "text": [
      "Help on built-in function sort:\n",
      "\n",
      "sort(*, key=None, reverse=False) method of builtins.list instance\n",
      "    Sort the list in ascending order and return None.\n",
      "    \n",
      "    The sort is in-place (i.e. the list itself is modified) and stable (i.e. the\n",
      "    order of two equal elements is maintained).\n",
      "    \n",
      "    If a key function is given, apply it once to each list item and sort them,\n",
      "    ascending or descending, according to their function values.\n",
      "    \n",
      "    The reverse flag can be set to sort in descending order.\n",
      "\n"
     ]
    }
   ],
   "source": [
    "help(words.sort)"
   ]
  },
  {
   "cell_type": "code",
   "execution_count": 152,
   "id": "04fa6aa6-cad0-492d-aef6-b4de4e2ba6ab",
   "metadata": {},
   "outputs": [
    {
     "data": {
      "text/plain": [
       "['a', 'is', 'string', 'this']"
      ]
     },
     "execution_count": 152,
     "metadata": {},
     "output_type": "execute_result"
    }
   ],
   "source": [
    "sorted(words)"
   ]
  },
  {
   "cell_type": "code",
   "execution_count": 155,
   "id": "f73b6d11-4132-45d2-8607-c6669f07c4fb",
   "metadata": {},
   "outputs": [
    {
     "data": {
      "text/plain": [
       "['this', 'string', 'is', 'a']"
      ]
     },
     "execution_count": 155,
     "metadata": {},
     "output_type": "execute_result"
    }
   ],
   "source": [
    "sorted(words, reverse=True)"
   ]
  },
  {
   "cell_type": "code",
   "execution_count": 156,
   "id": "feac306b-9de7-47dd-a2d0-fc5e3bc58dac",
   "metadata": {},
   "outputs": [
    {
     "data": {
      "text/plain": [
       "['this', 'is', 'a', 'string']"
      ]
     },
     "execution_count": 156,
     "metadata": {},
     "output_type": "execute_result"
    }
   ],
   "source": [
    "list(words)"
   ]
  },
  {
   "cell_type": "code",
   "execution_count": 158,
   "id": "dd6fdf83-7b4b-4d5c-98b9-1a7023da22d7",
   "metadata": {},
   "outputs": [],
   "source": [
    "how_many = len(words)"
   ]
  },
  {
   "cell_type": "code",
   "execution_count": 159,
   "id": "039e2c09-8fc2-4bf5-873d-24d8479eaaf2",
   "metadata": {},
   "outputs": [
    {
     "data": {
      "text/plain": [
       "4"
      ]
     },
     "execution_count": 159,
     "metadata": {},
     "output_type": "execute_result"
    }
   ],
   "source": [
    "how_many"
   ]
  },
  {
   "cell_type": "code",
   "execution_count": 160,
   "id": "c6b8e547-593c-49f6-9aa5-4aca1f490a02",
   "metadata": {},
   "outputs": [
    {
     "name": "stdout",
     "output_type": "stream",
     "text": [
      "Help on built-in function len in module builtins:\n",
      "\n",
      "len(obj, /)\n",
      "    Return the number of items in a container.\n",
      "\n"
     ]
    }
   ],
   "source": [
    "help(len)"
   ]
  },
  {
   "cell_type": "code",
   "execution_count": 164,
   "id": "d2a9b045-e5b0-4267-9264-330a622764af",
   "metadata": {},
   "outputs": [
    {
     "data": {
      "text/plain": [
       "140346519064512"
      ]
     },
     "execution_count": 164,
     "metadata": {},
     "output_type": "execute_result"
    }
   ],
   "source": [
    "id(words)"
   ]
  },
  {
   "cell_type": "code",
   "execution_count": 165,
   "id": "e185434f-97ef-43d2-b2bf-6376839c5727",
   "metadata": {},
   "outputs": [],
   "source": [
    "identity = id(words)"
   ]
  },
  {
   "cell_type": "code",
   "execution_count": 166,
   "id": "731c7ec6-150e-4b60-9e82-6882ecf6c2b8",
   "metadata": {},
   "outputs": [
    {
     "data": {
      "text/plain": [
       "140346519064512"
      ]
     },
     "execution_count": 166,
     "metadata": {},
     "output_type": "execute_result"
    }
   ],
   "source": [
    "identity"
   ]
  },
  {
   "cell_type": "code",
   "execution_count": 167,
   "id": "f24376c8-27ce-4fe6-b6a5-0fb3133c6a6f",
   "metadata": {},
   "outputs": [
    {
     "name": "stdout",
     "output_type": "stream",
     "text": [
      "this\n"
     ]
    }
   ],
   "source": [
    "print('this')"
   ]
  },
  {
   "cell_type": "code",
   "execution_count": 168,
   "id": "a1aa1670-04a8-45a6-b4f4-c55cc9d828a8",
   "metadata": {},
   "outputs": [
    {
     "data": {
      "text/plain": [
       "140346519064512"
      ]
     },
     "execution_count": 168,
     "metadata": {},
     "output_type": "execute_result"
    }
   ],
   "source": [
    "id(words)"
   ]
  },
  {
   "cell_type": "code",
   "execution_count": 169,
   "id": "388625e1-cc97-424c-b914-47b395edc453",
   "metadata": {},
   "outputs": [],
   "source": [
    "identity = id(words)"
   ]
  },
  {
   "cell_type": "code",
   "execution_count": 170,
   "id": "02852f48-01c6-49e9-a46d-a42b8c21e766",
   "metadata": {},
   "outputs": [
    {
     "data": {
      "text/plain": [
       "140346519064512"
      ]
     },
     "execution_count": 170,
     "metadata": {},
     "output_type": "execute_result"
    }
   ],
   "source": [
    "identity"
   ]
  },
  {
   "cell_type": "code",
   "execution_count": 171,
   "id": "18d213d3-4502-4b03-a5c8-cd444a30855e",
   "metadata": {},
   "outputs": [
    {
     "name": "stdout",
     "output_type": "stream",
     "text": [
      "something\n"
     ]
    }
   ],
   "source": [
    "result = print('something')"
   ]
  },
  {
   "cell_type": "code",
   "execution_count": 172,
   "id": "2c81156a-f4f6-4710-955b-b7b4025e2db5",
   "metadata": {},
   "outputs": [
    {
     "name": "stdout",
     "output_type": "stream",
     "text": [
      "None\n"
     ]
    }
   ],
   "source": [
    "print(result)"
   ]
  },
  {
   "cell_type": "markdown",
   "id": "1c120310-86fa-40d5-890b-ccea142d6e32",
   "metadata": {},
   "source": [
    "## Quick Lab: Lists\n",
    "* Write a Python program to read in a list of items possibly containing duplicates, and then constructs a __new__ list containing the elements from the original list, in the order they were entered, but with duplicates only occurring ONCE in the new list, e.g.,\n",
    "<p/>\n",
    "<pre>\n",
    "Enter a list of items: <b>apple cherry banana apple lemon cherry lemon</b>\n",
    "apple cherry banana lemon"
   ]
  },
  {
   "cell_type": "code",
   "execution_count": 177,
   "id": "84a6a649-f38a-4b12-914a-215b07df7b6d",
   "metadata": {},
   "outputs": [
    {
     "name": "stdin",
     "output_type": "stream",
     "text": [
      "Enter a list of items:  apple fig pear\n"
     ]
    }
   ],
   "source": [
    "words = input('Enter a list of items: ')"
   ]
  },
  {
   "cell_type": "code",
   "execution_count": 178,
   "id": "e8c7f463-bd61-4aca-adff-f6a564ea23e4",
   "metadata": {},
   "outputs": [
    {
     "data": {
      "text/plain": [
       "'apple fig pear'"
      ]
     },
     "execution_count": 178,
     "metadata": {},
     "output_type": "execute_result"
    }
   ],
   "source": [
    "words"
   ]
  },
  {
   "cell_type": "code",
   "execution_count": 179,
   "id": "c35f94e8-73d8-4197-a630-b9ee60d100f1",
   "metadata": {},
   "outputs": [
    {
     "data": {
      "text/plain": [
       "['apple', 'fig', 'pear']"
      ]
     },
     "execution_count": 179,
     "metadata": {},
     "output_type": "execute_result"
    }
   ],
   "source": [
    "words = words.split()\n",
    "words"
   ]
  },
  {
   "cell_type": "code",
   "execution_count": 182,
   "id": "69e02f61-3fca-48d9-a65a-f7ee1ebbb45c",
   "metadata": {},
   "outputs": [
    {
     "name": "stdin",
     "output_type": "stream",
     "text": [
      "Enter a list of items:  apple cherry banana apple lemon cherry lemon\n"
     ]
    }
   ],
   "source": [
    "words = input('Enter a list of items: ').split()"
   ]
  },
  {
   "cell_type": "code",
   "execution_count": 183,
   "id": "ad9ce104-6596-45e9-b4e6-91ee8fb75eaa",
   "metadata": {},
   "outputs": [
    {
     "data": {
      "text/plain": [
       "['apple', 'cherry', 'banana', 'apple', 'lemon', 'cherry', 'lemon']"
      ]
     },
     "execution_count": 183,
     "metadata": {},
     "output_type": "execute_result"
    }
   ],
   "source": [
    "words"
   ]
  },
  {
   "cell_type": "code",
   "execution_count": null,
   "id": "03edbb8d-9e81-41e0-854d-f5742bfa53ba",
   "metadata": {},
   "outputs": [],
   "source": [
    "# 0. ask the user for a list of items\n",
    "# 1. create a new list\n",
    "# 2. for each item in the old list:\n",
    "# 3.     if it's NOT already in the new list:\n",
    "# 4.         add it to the new list"
   ]
  },
  {
   "cell_type": "code",
   "execution_count": null,
   "id": "66c92fe8-b90b-47d3-b1e9-e19d7a818546",
   "metadata": {},
   "outputs": [],
   "source": [
    "# 0. get input from the user\n",
    "# 1. split it into a list\n",
    "# 1a. create a new empty list\n",
    "# 2. for each item in the original list:\n",
    "# 3.     if it's NOT already in the new list:\n",
    "# 4.         add it to the new list"
   ]
  },
  {
   "cell_type": "code",
   "execution_count": 184,
   "id": "a7e402b2-73d2-4ef6-b024-870e6bf3347d",
   "metadata": {},
   "outputs": [
    {
     "data": {
      "text/plain": [
       "['apple', 'cherry', 'banana', 'apple', 'lemon', 'cherry', 'lemon']"
      ]
     },
     "execution_count": 184,
     "metadata": {},
     "output_type": "execute_result"
    }
   ],
   "source": [
    "words"
   ]
  },
  {
   "cell_type": "code",
   "execution_count": 185,
   "id": "76ad4b02-7453-4fad-afc5-3c45af94dd29",
   "metadata": {},
   "outputs": [
    {
     "data": {
      "text/plain": [
       "True"
      ]
     },
     "execution_count": 185,
     "metadata": {},
     "output_type": "execute_result"
    }
   ],
   "source": [
    "'apple' in words"
   ]
  },
  {
   "cell_type": "code",
   "execution_count": 187,
   "id": "8c1af39a-b977-4b68-a29b-e81fb2c48ace",
   "metadata": {},
   "outputs": [
    {
     "data": {
      "text/plain": [
       "True"
      ]
     },
     "execution_count": 187,
     "metadata": {},
     "output_type": "execute_result"
    }
   ],
   "source": [
    "'guava' not in words"
   ]
  },
  {
   "cell_type": "code",
   "execution_count": 188,
   "id": "fe075ebb-3dd0-4567-a5e1-f8a4696cd290",
   "metadata": {},
   "outputs": [
    {
     "data": {
      "text/plain": [
       "True"
      ]
     },
     "execution_count": 188,
     "metadata": {},
     "output_type": "execute_result"
    }
   ],
   "source": [
    "not 'guava' in words"
   ]
  },
  {
   "cell_type": "code",
   "execution_count": 195,
   "id": "08094b51-b789-4300-8f19-1a987cdb47d3",
   "metadata": {},
   "outputs": [
    {
     "name": "stdin",
     "output_type": "stream",
     "text": [
      "Enter some words:  apple fig pear apple banana pear fig apple lime\n"
     ]
    }
   ],
   "source": [
    "words = input('Enter some words: ').split() # 0, 1 (we could do this separately)"
   ]
  },
  {
   "cell_type": "code",
   "execution_count": 196,
   "id": "2cc02747-42d0-481c-9d79-ada412fc9f15",
   "metadata": {},
   "outputs": [],
   "source": [
    "new_words = [] # 1a ... you could also write new_words = list()\n",
    "for word in words: # 2 ... for each word/item in the original list entered by the user\n",
    "    if not word in new_words: # 3 ... if the word is not in the new list yet...\n",
    "        new_words.append(word) # 4 add/append it"
   ]
  },
  {
   "cell_type": "code",
   "execution_count": 197,
   "id": "78eb761f-0677-4f03-93a0-913ea9559291",
   "metadata": {},
   "outputs": [
    {
     "data": {
      "text/plain": [
       "['apple', 'fig', 'pear', 'banana', 'lime']"
      ]
     },
     "execution_count": 197,
     "metadata": {},
     "output_type": "execute_result"
    }
   ],
   "source": [
    "new_words"
   ]
  },
  {
   "cell_type": "markdown",
   "id": "0bb15e31-da57-4fc8-895f-72ddd9aa7ae3",
   "metadata": {},
   "source": [
    "## Group Lab: Lists\n",
    "* Write a Python program to maintain a list \n",
    "  * Read input until the user enters 'quit'\n",
    "  * Words that the user enters should be added to the list\n",
    "  * If a word begins with '-' (e.g., '-foo') it should be removed from the list\n",
    "  * If the user enters only a '-', the list should be reversed\n",
    "  * After each operation, print the list\n",
    "  * Extras:\n",
    "      * If user enters more than one word (e.g, __foo bar__), add \"foo\" and \"bar\" to the list, rather than \"foo bar\"\n",
    "      * Same for \"-\", i.e., __-foo bar__ would remove \"foo\" and \"bar\" from the  list"
   ]
  },
  {
   "cell_type": "code",
   "execution_count": 198,
   "id": "03a97d86-a30e-4a2d-91cc-836a81d4f1ac",
   "metadata": {},
   "outputs": [
    {
     "ename": "SyntaxError",
     "evalue": "'break' outside loop (668683560.py, line 1)",
     "output_type": "error",
     "traceback": [
      "\u001b[0;36m  Input \u001b[0;32mIn [198]\u001b[0;36m\u001b[0m\n\u001b[0;31m    break\u001b[0m\n\u001b[0m    ^\u001b[0m\n\u001b[0;31mSyntaxError\u001b[0m\u001b[0;31m:\u001b[0m 'break' outside loop\n"
     ]
    }
   ],
   "source": [
    "break"
   ]
  },
  {
   "cell_type": "code",
   "execution_count": 199,
   "id": "cf2e64c3-6fc7-47d2-99f3-04bf92438cc8",
   "metadata": {},
   "outputs": [],
   "source": [
    "# settled on using a while loop because we don't know a priori how many times they will talk to us\n",
    "# while the user enters a word that isn't 'quit'\n",
    "#    print out what they entered"
   ]
  },
  {
   "cell_type": "code",
   "execution_count": 4,
   "id": "f7c6ef8a-e639-4580-93e1-ee556f7f38c2",
   "metadata": {},
   "outputs": [
    {
     "name": "stdin",
     "output_type": "stream",
     "text": [
      "Enter a word and I will add it to a list:  hi\n"
     ]
    },
    {
     "name": "stdout",
     "output_type": "stream",
     "text": [
      "hi\n"
     ]
    },
    {
     "name": "stdin",
     "output_type": "stream",
     "text": [
      "Enter a word and I will add it to a list:  there\n"
     ]
    },
    {
     "name": "stdout",
     "output_type": "stream",
     "text": [
      "there\n"
     ]
    },
    {
     "name": "stdin",
     "output_type": "stream",
     "text": [
      "Enter a word and I will add it to a list:  ok\n"
     ]
    },
    {
     "name": "stdout",
     "output_type": "stream",
     "text": [
      "ok\n"
     ]
    },
    {
     "name": "stdin",
     "output_type": "stream",
     "text": [
      "Enter a word and I will add it to a list:  quit\n"
     ]
    }
   ],
   "source": [
    "prompt = 'Enter a word and I will add it to a list: '\n",
    "word = input(prompt) # priming the pump\n",
    "\n",
    "while word != 'quit':\n",
    "    print(word) # process...\n",
    "    word = input(prompt)"
   ]
  },
  {
   "cell_type": "code",
   "execution_count": 5,
   "id": "4bfd320c-eb3c-4871-8e10-3c60b90d936d",
   "metadata": {},
   "outputs": [
    {
     "name": "stdout",
     "output_type": "stream",
     "text": [
      "\n"
     ]
    },
    {
     "name": "stdin",
     "output_type": "stream",
     "text": [
      "Enter a word and I will add it to a list:  appld\n"
     ]
    },
    {
     "name": "stdout",
     "output_type": "stream",
     "text": [
      "appld\n"
     ]
    },
    {
     "name": "stdin",
     "output_type": "stream",
     "text": [
      "Enter a word and I will add it to a list:  fig\n"
     ]
    },
    {
     "name": "stdout",
     "output_type": "stream",
     "text": [
      "fig\n"
     ]
    },
    {
     "name": "stdin",
     "output_type": "stream",
     "text": [
      "Enter a word and I will add it to a list:  quit\n"
     ]
    }
   ],
   "source": [
    "word = '' # prime the pump\n",
    "while word != 'quit':\n",
    "    print(word) # process...\n",
    "    word = input('Enter a word and I will add it to a list: ')"
   ]
  },
  {
   "cell_type": "code",
   "execution_count": 6,
   "id": "3ebe261e-5829-4298-bcdd-6dfa349975dd",
   "metadata": {},
   "outputs": [
    {
     "name": "stdin",
     "output_type": "stream",
     "text": [
      "Enter a word and I will add it to a list:  apple\n"
     ]
    },
    {
     "name": "stdout",
     "output_type": "stream",
     "text": [
      "apple\n"
     ]
    },
    {
     "name": "stdin",
     "output_type": "stream",
     "text": [
      "Enter a word and I will add it to a list:  quit\n"
     ]
    },
    {
     "name": "stdout",
     "output_type": "stream",
     "text": [
      "quit\n"
     ]
    }
   ],
   "source": [
    "word = ''\n",
    "while word != 'quit':\n",
    "    word = input('Enter a word and I will add it to a list: ')\n",
    "    if word == 'quit':\n",
    "        break\n",
    "    print(word) # process..."
   ]
  },
  {
   "cell_type": "code",
   "execution_count": null,
   "id": "28766a25-9bcb-474f-9ba7-a6c49c292e9b",
   "metadata": {},
   "outputs": [],
   "source": [
    "word = ''\n",
    "while True: # go forever\n",
    "    word = input('Enter a word and I will add it to a list: ')\n",
    "    if word == 'quit':\n",
    "        break\n",
    "    print(word) # process..."
   ]
  },
  {
   "cell_type": "code",
   "execution_count": 7,
   "id": "e6d7a97d-d385-4050-a1d3-b26fa9cae7ba",
   "metadata": {},
   "outputs": [
    {
     "ename": "SyntaxError",
     "evalue": "invalid syntax (1517602451.py, line 1)",
     "output_type": "error",
     "traceback": [
      "\u001b[0;36m  Input \u001b[0;32mIn [7]\u001b[0;36m\u001b[0m\n\u001b[0;31m    while (word = input('Enter: ')) != 'quit':\u001b[0m\n\u001b[0m                ^\u001b[0m\n\u001b[0;31mSyntaxError\u001b[0m\u001b[0;31m:\u001b[0m invalid syntax\n"
     ]
    }
   ],
   "source": [
    "while (word = input('Enter: ')) != 'quit':\n",
    "    print(word)"
   ]
  },
  {
   "cell_type": "code",
   "execution_count": 8,
   "id": "aea39fb4-fc56-48a2-b375-113f94d86054",
   "metadata": {},
   "outputs": [
    {
     "data": {
      "text/plain": [
       "'3.9.12 (main, Apr  5 2022, 01:53:17) \\n[Clang 12.0.0 ]'"
      ]
     },
     "execution_count": 8,
     "metadata": {},
     "output_type": "execute_result"
    }
   ],
   "source": [
    "import sys\n",
    "sys.version"
   ]
  },
  {
   "cell_type": "code",
   "execution_count": 11,
   "id": "5f90724c-5e44-4488-9446-82965372539d",
   "metadata": {},
   "outputs": [
    {
     "name": "stdin",
     "output_type": "stream",
     "text": [
      "Enter:  1\n"
     ]
    },
    {
     "name": "stdout",
     "output_type": "stream",
     "text": [
      "1\n"
     ]
    },
    {
     "name": "stdin",
     "output_type": "stream",
     "text": [
      "Enter:  2\n"
     ]
    },
    {
     "name": "stdout",
     "output_type": "stream",
     "text": [
      "2\n"
     ]
    },
    {
     "name": "stdin",
     "output_type": "stream",
     "text": [
      "Enter:  3\n"
     ]
    },
    {
     "name": "stdout",
     "output_type": "stream",
     "text": [
      "3\n"
     ]
    },
    {
     "name": "stdin",
     "output_type": "stream",
     "text": [
      "Enter:  quit\n"
     ]
    }
   ],
   "source": [
    "while (word := input('Enter: ')) != 'quit': # \"walrus\" operator, added at Python 3.8\n",
    "    print(word)"
   ]
  },
  {
   "cell_type": "code",
   "execution_count": 16,
   "id": "e3e6b2eb-4b04-4869-911c-71f1891d3b40",
   "metadata": {},
   "outputs": [
    {
     "ename": "SyntaxError",
     "evalue": "invalid syntax (151006319.py, line 1)",
     "output_type": "error",
     "traceback": [
      "\u001b[0;36m  Input \u001b[0;32mIn [16]\u001b[0;36m\u001b[0m\n\u001b[0;31m    thing := 'blah'\u001b[0m\n\u001b[0m                   ^\u001b[0m\n\u001b[0;31mSyntaxError\u001b[0m\u001b[0;31m:\u001b[0m invalid syntax\n"
     ]
    }
   ],
   "source": [
    "thing := 'blah'"
   ]
  },
  {
   "cell_type": "code",
   "execution_count": 15,
   "id": "12b6e30c-0d1d-42a0-a1f7-d1a63b78f076",
   "metadata": {},
   "outputs": [
    {
     "data": {
      "text/plain": [
       "'blah'"
      ]
     },
     "execution_count": 15,
     "metadata": {},
     "output_type": "execute_result"
    }
   ],
   "source": [
    "thing"
   ]
  },
  {
   "cell_type": "code",
   "execution_count": 18,
   "id": "9f7b065e-f5c2-42d1-9ceb-01ec13a58b22",
   "metadata": {},
   "outputs": [
    {
     "name": "stdin",
     "output_type": "stream",
     "text": [
      "Enter:  apple\n"
     ]
    },
    {
     "name": "stdout",
     "output_type": "stream",
     "text": [
      "['apple']\n"
     ]
    },
    {
     "name": "stdin",
     "output_type": "stream",
     "text": [
      "Enter:  fig\n"
     ]
    },
    {
     "name": "stdout",
     "output_type": "stream",
     "text": [
      "['apple', 'fig']\n"
     ]
    },
    {
     "name": "stdin",
     "output_type": "stream",
     "text": [
      "Enter:  pear\n"
     ]
    },
    {
     "name": "stdout",
     "output_type": "stream",
     "text": [
      "['apple', 'fig', 'pear']\n"
     ]
    },
    {
     "name": "stdin",
     "output_type": "stream",
     "text": [
      "Enter:  -fig\n"
     ]
    },
    {
     "name": "stdout",
     "output_type": "stream",
     "text": [
      "['apple', 'fig', 'pear', '-fig']\n"
     ]
    },
    {
     "name": "stdin",
     "output_type": "stream",
     "text": [
      "Enter:  quit\n"
     ]
    }
   ],
   "source": [
    "words = [] # 1. create a list which/that will be maintained by the program\n",
    "\n",
    "while (word := input('Enter: ')) != 'quit': # \"walrus\" operator, added at Python 3.8\n",
    "    words.append(word) # 2. add a word to the list\n",
    "    print(words)"
   ]
  },
  {
   "cell_type": "code",
   "execution_count": 27,
   "id": "5115f86c-6eb8-47f9-9769-a5330c3e3374",
   "metadata": {},
   "outputs": [
    {
     "name": "stdin",
     "output_type": "stream",
     "text": [
      "Enter:  apple-\n"
     ]
    },
    {
     "name": "stdout",
     "output_type": "stream",
     "text": [
      "['apple-']\n"
     ]
    },
    {
     "name": "stdin",
     "output_type": "stream",
     "text": [
      "Enter:  fig-\n"
     ]
    },
    {
     "name": "stdout",
     "output_type": "stream",
     "text": [
      "['apple-', 'fig-']\n"
     ]
    },
    {
     "name": "stdin",
     "output_type": "stream",
     "text": [
      "Enter:  pear-\n"
     ]
    },
    {
     "name": "stdout",
     "output_type": "stream",
     "text": [
      "['apple-', 'fig-', 'pear-']\n"
     ]
    },
    {
     "name": "stdin",
     "output_type": "stream",
     "text": [
      "Enter:  -fig-\n"
     ]
    },
    {
     "name": "stdout",
     "output_type": "stream",
     "text": [
      "You asked me to remove -fig-\n"
     ]
    },
    {
     "ename": "ValueError",
     "evalue": "list.remove(x): x not in list",
     "output_type": "error",
     "traceback": [
      "\u001b[0;31m---------------------------------------------------------------------------\u001b[0m",
      "\u001b[0;31mValueError\u001b[0m                                Traceback (most recent call last)",
      "Input \u001b[0;32mIn [27]\u001b[0m, in \u001b[0;36m<cell line: 3>\u001b[0;34m()\u001b[0m\n\u001b[1;32m      5\u001b[0m \u001b[38;5;28;01mif\u001b[39;00m word\u001b[38;5;241m.\u001b[39mstartswith(\u001b[38;5;124m'\u001b[39m\u001b[38;5;124m-\u001b[39m\u001b[38;5;124m'\u001b[39m):\n\u001b[1;32m      6\u001b[0m     \u001b[38;5;66;03m# remove the word\u001b[39;00m\n\u001b[1;32m      7\u001b[0m     \u001b[38;5;28mprint\u001b[39m(\u001b[38;5;124m'\u001b[39m\u001b[38;5;124mYou asked me to remove\u001b[39m\u001b[38;5;124m'\u001b[39m, word)\n\u001b[0;32m----> 8\u001b[0m     \u001b[43mwords\u001b[49m\u001b[38;5;241;43m.\u001b[39;49m\u001b[43mremove\u001b[49m\u001b[43m(\u001b[49m\u001b[43mword\u001b[49m\u001b[43m)\u001b[49m\n\u001b[1;32m      9\u001b[0m \u001b[38;5;28;01melse\u001b[39;00m:\n\u001b[1;32m     10\u001b[0m     words\u001b[38;5;241m.\u001b[39mappend(word) \u001b[38;5;66;03m# 2. add a word to the list\u001b[39;00m\n",
      "\u001b[0;31mValueError\u001b[0m: list.remove(x): x not in list"
     ]
    }
   ],
   "source": [
    "words = [] # 1. create a list which/that will be maintained by the program\n",
    "\n",
    "while (word := input('Enter: ')) != 'quit': # \"walrus\" operator, added at Python 3.8\n",
    "    # is the first character of their response/word at '-'\n",
    "    if word.startswith('-'):\n",
    "        # remove the word\n",
    "        print('You asked me to remove', word)\n",
    "        words.remove(word)\n",
    "    else:\n",
    "        words.append(word) # 2. add a word to the list\n",
    "    print(words)"
   ]
  },
  {
   "cell_type": "code",
   "execution_count": 28,
   "id": "fc500a59-81d3-4b38-8268-a40c303d250d",
   "metadata": {},
   "outputs": [],
   "source": [
    "word = '-fig-'"
   ]
  },
  {
   "cell_type": "code",
   "execution_count": 29,
   "id": "1d377d88-8da1-40f8-8578-c934e8a48ac7",
   "metadata": {},
   "outputs": [
    {
     "data": {
      "text/plain": [
       "'-fig-'"
      ]
     },
     "execution_count": 29,
     "metadata": {},
     "output_type": "execute_result"
    }
   ],
   "source": [
    "word"
   ]
  },
  {
   "cell_type": "code",
   "execution_count": 24,
   "id": "d9bd26af-e997-45bb-9962-a3ad0eae13f4",
   "metadata": {},
   "outputs": [
    {
     "name": "stdout",
     "output_type": "stream",
     "text": [
      "-fig\n"
     ]
    }
   ],
   "source": [
    "print(word)"
   ]
  },
  {
   "cell_type": "code",
   "execution_count": 30,
   "id": "fd8cf043-5457-4f36-86e8-e0964a0db211",
   "metadata": {},
   "outputs": [
    {
     "data": {
      "text/plain": [
       "'fig'"
      ]
     },
     "execution_count": 30,
     "metadata": {},
     "output_type": "execute_result"
    }
   ],
   "source": [
    "word.strip('-')"
   ]
  },
  {
   "cell_type": "code",
   "execution_count": 31,
   "id": "e2234516-011d-42fd-bc74-fad3a1b88343",
   "metadata": {},
   "outputs": [],
   "source": [
    "word = '-fig'"
   ]
  },
  {
   "cell_type": "code",
   "execution_count": 32,
   "id": "e87926f1-8a42-48cd-a6d2-336236e37947",
   "metadata": {},
   "outputs": [
    {
     "data": {
      "text/plain": [
       "'-'"
      ]
     },
     "execution_count": 32,
     "metadata": {},
     "output_type": "execute_result"
    }
   ],
   "source": [
    "word[0]"
   ]
  },
  {
   "cell_type": "code",
   "execution_count": 34,
   "id": "ed3514c6-b676-4372-ad9c-909550793816",
   "metadata": {},
   "outputs": [
    {
     "data": {
      "text/plain": [
       "'fig'"
      ]
     },
     "execution_count": 34,
     "metadata": {},
     "output_type": "execute_result"
    }
   ],
   "source": [
    "word[1:] # characters in word from position 1 onwards"
   ]
  },
  {
   "cell_type": "code",
   "execution_count": 36,
   "id": "99bf300f-84fc-40c5-aebb-02e7ccb1386d",
   "metadata": {},
   "outputs": [
    {
     "name": "stdin",
     "output_type": "stream",
     "text": [
      "Enter:  apple\n"
     ]
    },
    {
     "name": "stdout",
     "output_type": "stream",
     "text": [
      "['apple']\n"
     ]
    },
    {
     "name": "stdin",
     "output_type": "stream",
     "text": [
      "Enter:  fig\n"
     ]
    },
    {
     "name": "stdout",
     "output_type": "stream",
     "text": [
      "['apple', 'fig']\n"
     ]
    },
    {
     "name": "stdin",
     "output_type": "stream",
     "text": [
      "Enter:  pear\n"
     ]
    },
    {
     "name": "stdout",
     "output_type": "stream",
     "text": [
      "['apple', 'fig', 'pear']\n"
     ]
    },
    {
     "name": "stdin",
     "output_type": "stream",
     "text": [
      "Enter:  -lime\n"
     ]
    },
    {
     "ename": "ValueError",
     "evalue": "list.remove(x): x not in list",
     "output_type": "error",
     "traceback": [
      "\u001b[0;31m---------------------------------------------------------------------------\u001b[0m",
      "\u001b[0;31mValueError\u001b[0m                                Traceback (most recent call last)",
      "Input \u001b[0;32mIn [36]\u001b[0m, in \u001b[0;36m<cell line: 3>\u001b[0;34m()\u001b[0m\n\u001b[1;32m      3\u001b[0m \u001b[38;5;28;01mwhile\u001b[39;00m (word \u001b[38;5;241m:=\u001b[39m \u001b[38;5;28minput\u001b[39m(\u001b[38;5;124m'\u001b[39m\u001b[38;5;124mEnter: \u001b[39m\u001b[38;5;124m'\u001b[39m)) \u001b[38;5;241m!=\u001b[39m \u001b[38;5;124m'\u001b[39m\u001b[38;5;124mquit\u001b[39m\u001b[38;5;124m'\u001b[39m: \u001b[38;5;66;03m# \"walrus\" operator, added at Python 3.8\u001b[39;00m\n\u001b[1;32m      4\u001b[0m     \u001b[38;5;66;03m# is the first character of their response/word at '-'\u001b[39;00m\n\u001b[1;32m      5\u001b[0m     \u001b[38;5;28;01mif\u001b[39;00m word\u001b[38;5;241m.\u001b[39mstartswith(\u001b[38;5;124m'\u001b[39m\u001b[38;5;124m-\u001b[39m\u001b[38;5;124m'\u001b[39m):\n\u001b[1;32m      6\u001b[0m         \u001b[38;5;66;03m# remove the word\u001b[39;00m\n\u001b[0;32m----> 7\u001b[0m         \u001b[43mwords\u001b[49m\u001b[38;5;241;43m.\u001b[39;49m\u001b[43mremove\u001b[49m\u001b[43m(\u001b[49m\u001b[43mword\u001b[49m\u001b[43m[\u001b[49m\u001b[38;5;241;43m1\u001b[39;49m\u001b[43m:\u001b[49m\u001b[43m]\u001b[49m\u001b[43m)\u001b[49m \u001b[38;5;66;03m# this slice omits the first character (-)\u001b[39;00m\n\u001b[1;32m      8\u001b[0m     \u001b[38;5;28;01melse\u001b[39;00m:\n\u001b[1;32m      9\u001b[0m         words\u001b[38;5;241m.\u001b[39mappend(word) \u001b[38;5;66;03m# 2. add a word to the list\u001b[39;00m\n",
      "\u001b[0;31mValueError\u001b[0m: list.remove(x): x not in list"
     ]
    }
   ],
   "source": [
    "words = [] # 1. create a list which/that will be maintained by the program\n",
    "\n",
    "while (word := input('Enter: ')) != 'quit': # \"walrus\" operator, added at Python 3.8\n",
    "    # is the first character of their response/word at '-'\n",
    "    if word.startswith('-'):\n",
    "        # remove the word\n",
    "        words.remove(word[1:]) # this slice omits the first character (-)\n",
    "    else:\n",
    "        words.append(word) # 2. add a word to the list\n",
    "    print(words)"
   ]
  },
  {
   "cell_type": "code",
   "execution_count": 47,
   "id": "799c7385-1377-4e3b-8c8d-6d624809e44d",
   "metadata": {},
   "outputs": [
    {
     "name": "stdin",
     "output_type": "stream",
     "text": [
      "Enter:  apple\n"
     ]
    },
    {
     "name": "stdout",
     "output_type": "stream",
     "text": [
      "['apple']\n"
     ]
    },
    {
     "name": "stdin",
     "output_type": "stream",
     "text": [
      "Enter:  -apple\n"
     ]
    },
    {
     "name": "stdout",
     "output_type": "stream",
     "text": [
      "[]\n"
     ]
    },
    {
     "name": "stdin",
     "output_type": "stream",
     "text": [
      "Enter:  -\n"
     ]
    },
    {
     "name": "stdout",
     "output_type": "stream",
     "text": [
      "[]\n"
     ]
    },
    {
     "name": "stdin",
     "output_type": "stream",
     "text": [
      "Enter:  apple\n"
     ]
    },
    {
     "name": "stdout",
     "output_type": "stream",
     "text": [
      "['apple']\n"
     ]
    },
    {
     "name": "stdin",
     "output_type": "stream",
     "text": [
      "Enter:  -\n"
     ]
    },
    {
     "name": "stdout",
     "output_type": "stream",
     "text": [
      "['apple']\n"
     ]
    },
    {
     "name": "stdin",
     "output_type": "stream",
     "text": [
      "Enter:  quit\n"
     ]
    }
   ],
   "source": [
    "words = [] # 1. create a list which/that will be maintained by the program\n",
    "\n",
    "while (word := input('Enter: ')) != 'quit': # \"walrus\" operator, added at Python 3.8\n",
    "    # is the first character of their response/word at '-'\n",
    "    if word.startswith('-'): # does it begin with a hyphen?\n",
    "        if word == '-': # is it exactly a -? if so, reverse the list\n",
    "            words.reverse()\n",
    "        else:\n",
    "            # remove the word\n",
    "            words.remove(word[1:]) # this slice omits the first character (-)\n",
    "    else:\n",
    "        words.append(word) # 2. add a word to the list\n",
    "    print(words)"
   ]
  },
  {
   "cell_type": "code",
   "execution_count": 37,
   "id": "7ac0181b-9bb6-423d-b541-c6a20c7313e5",
   "metadata": {},
   "outputs": [
    {
     "data": {
      "text/plain": [
       "['apple', 'fig', 'pear']"
      ]
     },
     "execution_count": 37,
     "metadata": {},
     "output_type": "execute_result"
    }
   ],
   "source": [
    "words"
   ]
  },
  {
   "cell_type": "code",
   "execution_count": 38,
   "id": "27576999-c04a-47f6-9a9b-3f7166e97574",
   "metadata": {},
   "outputs": [],
   "source": [
    "words.reverse() # like .sort() in that it does its job in place"
   ]
  },
  {
   "cell_type": "code",
   "execution_count": 40,
   "id": "44e6c9d2-10e3-4718-99e1-e3c9f14d2e88",
   "metadata": {},
   "outputs": [
    {
     "data": {
      "text/plain": [
       "['pear', 'fig', 'apple']"
      ]
     },
     "execution_count": 40,
     "metadata": {},
     "output_type": "execute_result"
    }
   ],
   "source": [
    "words"
   ]
  },
  {
   "cell_type": "code",
   "execution_count": 41,
   "id": "63ff117d-d355-41c5-8697-3260ee9267d7",
   "metadata": {},
   "outputs": [
    {
     "data": {
      "text/plain": [
       "['apple', 'fig', 'pear']"
      ]
     },
     "execution_count": 41,
     "metadata": {},
     "output_type": "execute_result"
    }
   ],
   "source": [
    "words[::-1]"
   ]
  },
  {
   "cell_type": "code",
   "execution_count": 42,
   "id": "3a26365d-0b7c-4997-aea5-9805d1bc9b58",
   "metadata": {},
   "outputs": [
    {
     "data": {
      "text/plain": [
       "['pear', 'fig', 'apple']"
      ]
     },
     "execution_count": 42,
     "metadata": {},
     "output_type": "execute_result"
    }
   ],
   "source": [
    "words"
   ]
  },
  {
   "cell_type": "code",
   "execution_count": 43,
   "id": "51b74358-1d32-4119-8ede-c9af75e39c41",
   "metadata": {},
   "outputs": [],
   "source": [
    "words = words[::-1]"
   ]
  },
  {
   "cell_type": "code",
   "execution_count": 44,
   "id": "538e18c9-36f7-4896-875c-08f55488329d",
   "metadata": {},
   "outputs": [
    {
     "data": {
      "text/plain": [
       "['apple', 'fig', 'pear']"
      ]
     },
     "execution_count": 44,
     "metadata": {},
     "output_type": "execute_result"
    }
   ],
   "source": [
    "words"
   ]
  },
  {
   "cell_type": "markdown",
   "id": "49669ba6-4762-41aa-ac65-937810dc452c",
   "metadata": {},
   "source": [
    "## potential thoughts for the future / homework / what have you\n",
    "* do the extras listed in the assigment\n",
    "* handle words that aren't in the list, i.e., something like -foo should not fail if foo isn't in the list\n",
    "* don't let user reverse lists that contain < 2 items\n",
    "* disallow duplicates, i.e., refuse to append an item that's already in the list!\n",
    "* allow duplicates, BUT when printing them out, write something like 2x 'fig', instead of print it twice"
   ]
  },
  {
   "cell_type": "markdown",
   "id": "b1e8c792-ee90-4538-a65c-c9d5148c261b",
   "metadata": {},
   "source": [
    "## two good ways to get better at coding\n",
    "1. when the problem is solved and your code is working, try other ways to do it\n",
    "1. add \"features\" to your code–make it do something it didn't previous do, even if you're not asked to do so"
   ]
  },
  {
   "cell_type": "code",
   "execution_count": 70,
   "id": "e07b5b60-8e26-47f0-993b-66613d97bd33",
   "metadata": {},
   "outputs": [
    {
     "name": "stdin",
     "output_type": "stream",
     "text": [
      "Enter:  fig\n"
     ]
    },
    {
     "name": "stdout",
     "output_type": "stream",
     "text": [
      "fig\n"
     ]
    },
    {
     "name": "stdin",
     "output_type": "stream",
     "text": [
      "Enter:  apple\n"
     ]
    },
    {
     "name": "stdout",
     "output_type": "stream",
     "text": [
      "fig, apple\n"
     ]
    },
    {
     "name": "stdin",
     "output_type": "stream",
     "text": [
      "Enter:  fig\n"
     ]
    },
    {
     "name": "stdout",
     "output_type": "stream",
     "text": [
      "fig, apple, fig\n"
     ]
    },
    {
     "name": "stdin",
     "output_type": "stream",
     "text": [
      "Enter:  quit\n"
     ]
    }
   ],
   "source": [
    "words = [] # 1. create a list which/that will be maintained by the program\n",
    "\n",
    "while (word := input('Enter: ')) != 'quit': # \"walrus\" operator, added at Python 3.8\n",
    "    if word == '':\n",
    "        print('empty response...try again')\n",
    "        continue\n",
    "    \n",
    "    if word[0] in ' +@:,?/': # assume for whatever reason, any of these chars are illegal in first position\n",
    "        print('invalid character:', word[0])\n",
    "        continue\n",
    "        \n",
    "    # is the first character of their response/word at '-'\n",
    "    if word.startswith('-'): # does it begin with a hyphen?\n",
    "        if word == '-': # is it exactly a -? if so, reverse the list\n",
    "            words.reverse()\n",
    "        else: # started with a -, but is not exactly a -\n",
    "            # remove the word\n",
    "            words.remove(word[1:]) # this slice omits the first character (-)\n",
    "    else:\n",
    "        words.append(word) # 2. add a word to the list\n",
    "    \n",
    "    print(', '.join(words))"
   ]
  },
  {
   "cell_type": "code",
   "execution_count": 51,
   "id": "443ad5f1-98fd-4f44-a395-50e733a268db",
   "metadata": {},
   "outputs": [
    {
     "name": "stdin",
     "output_type": "stream",
     "text": [
      "Enter:  \n"
     ]
    },
    {
     "data": {
      "text/plain": [
       "''"
      ]
     },
     "execution_count": 51,
     "metadata": {},
     "output_type": "execute_result"
    }
   ],
   "source": [
    "input('Enter: ')"
   ]
  },
  {
   "cell_type": "code",
   "execution_count": 58,
   "id": "b719272c-3fad-4d67-817c-4f49d7eac323",
   "metadata": {},
   "outputs": [
    {
     "name": "stdout",
     "output_type": "stream",
     "text": [
      "['apple', 'fig', 'pear']\n"
     ]
    }
   ],
   "source": [
    "print(words)"
   ]
  },
  {
   "cell_type": "code",
   "execution_count": 60,
   "id": "e577304c-d3c3-46eb-a96e-3ee238c11142",
   "metadata": {},
   "outputs": [
    {
     "name": "stdout",
     "output_type": "stream",
     "text": [
      "apple, fig, pear\n"
     ]
    }
   ],
   "source": [
    "print(', '.join(words))"
   ]
  },
  {
   "cell_type": "code",
   "execution_count": 62,
   "id": "606b013b-cf77-4110-925c-21e5dd22f70d",
   "metadata": {},
   "outputs": [
    {
     "name": "stdout",
     "output_type": "stream",
     "text": [
      "guava\n",
      "lime\n",
      "fig\n",
      "apple\n",
      "lemon\n"
     ]
    }
   ],
   "source": [
    "print('\\n'.join(words))"
   ]
  },
  {
   "cell_type": "code",
   "execution_count": 63,
   "id": "420eecaa-5d7b-4bbd-abf2-4ed0872a3049",
   "metadata": {},
   "outputs": [
    {
     "name": "stdout",
     "output_type": "stream",
     "text": [
      "guava\n",
      "lime\n",
      "fig\n",
      "apple\n",
      "lemon\n"
     ]
    }
   ],
   "source": [
    "for word in words:\n",
    "    print(word)"
   ]
  },
  {
   "cell_type": "code",
   "execution_count": 66,
   "id": "f1589f36-0420-402d-a0d1-8c1538946823",
   "metadata": {},
   "outputs": [],
   "source": [
    "word = ':lemon'"
   ]
  },
  {
   "cell_type": "code",
   "execution_count": 67,
   "id": "ff9e7bd6-6f95-4eca-a1b5-ea6a1fba1c98",
   "metadata": {},
   "outputs": [
    {
     "data": {
      "text/plain": [
       "True"
      ]
     },
     "execution_count": 67,
     "metadata": {},
     "output_type": "execute_result"
    }
   ],
   "source": [
    "word[0] in ' +@:,?/' # suppose these are illegal first characters"
   ]
  },
  {
   "cell_type": "code",
   "execution_count": 71,
   "id": "65eb048b-e0a1-4ac5-9036-f7d36c644c5a",
   "metadata": {},
   "outputs": [],
   "source": [
    "import math"
   ]
  },
  {
   "cell_type": "code",
   "execution_count": 72,
   "id": "2bdef2fb-3ffc-4ff3-a432-c7a0724201a4",
   "metadata": {},
   "outputs": [],
   "source": [
    "import random"
   ]
  },
  {
   "cell_type": "code",
   "execution_count": 73,
   "id": "6be45cb5-04e5-4cf6-851b-8a927ee15c84",
   "metadata": {},
   "outputs": [
    {
     "data": {
      "text/plain": [
       "43"
      ]
     },
     "execution_count": 73,
     "metadata": {},
     "output_type": "execute_result"
    }
   ],
   "source": [
    "random.randint(1, 100)"
   ]
  },
  {
   "cell_type": "code",
   "execution_count": 76,
   "id": "6af83e82-9998-40c2-8aff-6963f64db021",
   "metadata": {},
   "outputs": [
    {
     "name": "stdout",
     "output_type": "stream",
     "text": [
      "['False', 'None', 'True', '__peg_parser__', 'and', 'as', 'assert', 'async', 'await', 'break', 'class', 'continue', 'def', 'del', 'elif', 'else', 'except', 'finally', 'for', 'from', 'global', 'if', 'import', 'in', 'is', 'lambda', 'nonlocal', 'not', 'or', 'pass', 'raise', 'return', 'try', 'while', 'with', 'yield']\n"
     ]
    }
   ],
   "source": [
    "import keyword\n",
    "print(keyword.kwlist)"
   ]
  },
  {
   "cell_type": "code",
   "execution_count": 78,
   "id": "da4a3aba-1138-434d-9b21-a5e6a3713ff5",
   "metadata": {},
   "outputs": [
    {
     "data": {
      "text/plain": [
       "['__doc__',\n",
       " '__loader__',\n",
       " '__name__',\n",
       " '__package__',\n",
       " '__spec__',\n",
       " '_grouper',\n",
       " '_tee',\n",
       " '_tee_dataobject',\n",
       " 'accumulate',\n",
       " 'chain',\n",
       " 'combinations',\n",
       " 'combinations_with_replacement',\n",
       " 'compress',\n",
       " 'count',\n",
       " 'cycle',\n",
       " 'dropwhile',\n",
       " 'filterfalse',\n",
       " 'groupby',\n",
       " 'islice',\n",
       " 'permutations',\n",
       " 'product',\n",
       " 'repeat',\n",
       " 'starmap',\n",
       " 'takewhile',\n",
       " 'tee',\n",
       " 'zip_longest']"
      ]
     },
     "execution_count": 78,
     "metadata": {},
     "output_type": "execute_result"
    }
   ],
   "source": [
    "import itertools # tools for better/faster iteration\n",
    "dir(itertools)"
   ]
  },
  {
   "cell_type": "code",
   "execution_count": 79,
   "id": "2e2f888d-2af7-4e37-8958-2e63bdeecee9",
   "metadata": {},
   "outputs": [],
   "source": [
    "d = {}"
   ]
  },
  {
   "cell_type": "code",
   "execution_count": 80,
   "id": "6a96bce0-fdf4-4b93-94d8-56a3c9720193",
   "metadata": {},
   "outputs": [
    {
     "data": {
      "text/plain": [
       "dict"
      ]
     },
     "execution_count": 80,
     "metadata": {},
     "output_type": "execute_result"
    }
   ],
   "source": [
    "type(d)"
   ]
  },
  {
   "cell_type": "code",
   "execution_count": 82,
   "id": "2dc3c4d6-92cd-4112-bbb8-f2f9dc6ad00e",
   "metadata": {},
   "outputs": [
    {
     "name": "stdout",
     "output_type": "stream",
     "text": [
      "Help on built-in function values:\n",
      "\n",
      "values(...) method of builtins.dict instance\n",
      "    D.values() -> an object providing a view on D's values\n",
      "\n"
     ]
    }
   ],
   "source": [
    "help(d.values)"
   ]
  },
  {
   "cell_type": "code",
   "execution_count": null,
   "id": "da0af508-24f6-4675-96ab-49eac21c5a82",
   "metadata": {},
   "outputs": [],
   "source": []
  }
 ],
 "metadata": {
  "kernelspec": {
   "display_name": "Python 3 (ipykernel)",
   "language": "python",
   "name": "python3"
  },
  "language_info": {
   "codemirror_mode": {
    "name": "ipython",
    "version": 3
   },
   "file_extension": ".py",
   "mimetype": "text/x-python",
   "name": "python",
   "nbconvert_exporter": "python",
   "pygments_lexer": "ipython3",
   "version": "3.9.12"
  }
 },
 "nbformat": 4,
 "nbformat_minor": 5
}
